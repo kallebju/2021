{
 "cells": [
  {
   "cell_type": "markdown",
   "metadata": {},
   "source": [
    "# Handling text exercise"
   ]
  },
  {
   "cell_type": "markdown",
   "metadata": {},
   "source": [
    "## Welcome! This exercise consists of:\n",
    "\n",
    "## Part 1: Hands on tutorial\n",
    "1. Implementing the natural language processing pipeline\n",
    "2. Solving four typical language processing tasks:\n",
    "   * Sentiment analysis\n",
    "   * Document classification\n",
    "   * Topic detection\n",
    "   * Semantic analysis\n",
    "\n",
    "\n",
    "### We will be working with four books in plain text:\n",
    "1. Moby-Dick, by Herman Melville\n",
    "2. Frankenstein; or, The Modern Prometheus, by Mary Shelley\n",
    "3. Pride and Prejudice, by Jane Austen\n",
    "4. Dracula, Bram Stoker\n",
    "\n",
    "#### To run this notebook, you need to install the following libraries:\n",
    "\n",
    "conda install nltk gensim spacy <br>\n",
    "pip install pyLDAvis  <br>\n",
    "pip install vaderSentiment  <br>\n",
    "pip install empath <br>\n",
    "python -m spacy download en  <br>\n",
    "python -m nltk.downloader punkt <br>\n",
    "python -m nltk.downloader all-corpora <br>\n",
    "\n",
    "## Part 2: Handling text comprehension questions\n",
    "- You can test your understanding of important NLP concepts. Solutions will be released next week.\n",
    "\n",
    "## Part 3: Coding exercise\n",
    "- When you are done, in \"Handling_text_exercise_2.ipynb\", you will find additional exercises you can work on independently."
   ]
  },
  {
   "cell_type": "markdown",
   "metadata": {},
   "source": [
    "## Part 1"
   ]
  },
  {
   "cell_type": "code",
   "execution_count": 2,
   "metadata": {},
   "outputs": [
    {
     "name": "stdout",
     "output_type": "stream",
     "text": [
      "The autoreload extension is already loaded. To reload it, use:\n",
      "  %reload_ext autoreload\n"
     ]
    }
   ],
   "source": [
    "%load_ext autoreload\n",
    "%autoreload 2\n",
    "\n",
    "import warnings; warnings.simplefilter('ignore')\n",
    "import os, codecs, string, random\n",
    "import numpy as np\n",
    "from numpy.random import seed as random_seed\n",
    "from numpy.random import shuffle as random_shuffle\n",
    "import matplotlib.pyplot as plt\n",
    "%matplotlib inline  \n",
    "\n",
    "seed = 42\n",
    "random.seed(seed)\n",
    "np.random.seed(seed)\n",
    "\n",
    "#NLP libraries\n",
    "import spacy, nltk, gensim, sklearn\n",
    "import pyLDAvis.gensim_models\n",
    "\n",
    "#Vader\n",
    "import vaderSentiment\n",
    "from vaderSentiment.vaderSentiment import SentimentIntensityAnalyzer\n",
    "\n",
    "#Scikit imports\n",
    "from sklearn.feature_extraction.text import CountVectorizer\n",
    "from sklearn.model_selection import train_test_split\n",
    "from sklearn.model_selection import cross_val_score\n",
    "from sklearn.linear_model import LogisticRegression\n",
    "from sklearn import preprocessing\n",
    "from sklearn.preprocessing import StandardScaler\n",
    "from sklearn.utils import shuffle\n",
    "\n",
    "#The data\n",
    "corpus_root = 'books/'"
   ]
  },
  {
   "cell_type": "markdown",
   "metadata": {},
   "source": [
    "#### In this tutorial we will be working with text in English. The same principles apply, but the methods cannot be applied directly to the text in unknown or other languages. We will be working mainly with the Spacy library."
   ]
  },
  {
   "cell_type": "markdown",
   "metadata": {},
   "source": [
    "Initialize the Spacy analyzer in English"
   ]
  },
  {
   "cell_type": "code",
   "execution_count": 3,
   "metadata": {},
   "outputs": [],
   "source": [
    "nlp = spacy.load('en_core_web_sm')"
   ]
  },
  {
   "cell_type": "markdown",
   "metadata": {},
   "source": [
    "Load the books"
   ]
  },
  {
   "cell_type": "code",
   "execution_count": 4,
   "metadata": {},
   "outputs": [
    {
     "name": "stdout",
     "output_type": "stream",
     "text": [
      "Moby_Dick.txt\n",
      "Frankenstein.txt\n",
      "DRACULA.txt\n",
      "PRIDE_AND_PREJUDICE.txt\n"
     ]
    }
   ],
   "source": [
    "books = list()\n",
    "\n",
    "for book_file in os.listdir(corpus_root):\n",
    "    if \".txt\" in book_file:\n",
    "        print(book_file)\n",
    "        with codecs.open(os.path.join(corpus_root,book_file),encoding=\"utf8\") as f:\n",
    "            books.append(f.read())"
   ]
  },
  {
   "cell_type": "markdown",
   "metadata": {},
   "source": [
    "Print the beginning of Pride and Prejudice"
   ]
  },
  {
   "cell_type": "code",
   "execution_count": 5,
   "metadata": {},
   "outputs": [
    {
     "name": "stdout",
     "output_type": "stream",
     "text": [
      "PRIDE AND PREJUDICE\n",
      "\n",
      "By Jane Austen\n",
      "\n",
      "\n",
      "\n",
      "Chapter 1\n",
      "\n",
      "\n",
      "It is a truth universally acknowledged, that a single man in possession\n",
      "of a good fortune, must be in want of a wife.\n",
      "\n",
      "However little known the feelings or views of such a man may be on his\n",
      "first entering a neighbourhood, this truth is so well fixed in the minds\n",
      "of the surrounding families, that he is considered the rightful property\n",
      "of some one or other of their daughters.\n",
      "\n",
      "“My dear Mr. Bennet,” said his lady to him one day, “have you heard that\n",
      "Netherfield Park is let at last?”\n",
      "\n",
      "Mr. Bennet replied that he had not.\n",
      "\n",
      "“But it is,” returned she;\n"
     ]
    }
   ],
   "source": [
    "print(books[3][0:600])"
   ]
  },
  {
   "cell_type": "markdown",
   "metadata": {},
   "source": [
    "#### Let's remove the new lines"
   ]
  },
  {
   "cell_type": "code",
   "execution_count": 6,
   "metadata": {},
   "outputs": [],
   "source": [
    "books = [\" \".join(b.split()) for b in books]"
   ]
  },
  {
   "cell_type": "code",
   "execution_count": 7,
   "metadata": {},
   "outputs": [
    {
     "name": "stdout",
     "output_type": "stream",
     "text": [
      "PRIDE AND PREJUDICE By Jane Austen Chapter 1 It is a truth universally acknowledged, that a single man in possession of a good fortune, must be in want of a wife. However little known the feelings or views of such a man may be on his first entering a neighbourhood, this truth is so well fixed in the minds of the surrounding families, that he is considered the rightful property of some one or other of their daughters. “My dear Mr. Bennet,” said his lady to him one day, “have you heard that Netherfield Park is let at last?” Mr. Bennet replied that he had not. “But it is,” returned she; “for Mrs.\n"
     ]
    }
   ],
   "source": [
    "print(books[3][0:600])"
   ]
  },
  {
   "cell_type": "markdown",
   "metadata": {},
   "source": [
    "### Load Frankenstein"
   ]
  },
  {
   "cell_type": "code",
   "execution_count": 8,
   "metadata": {},
   "outputs": [],
   "source": [
    "#index all books\n",
    "book = books[1]\n",
    "\n",
    "#put in raw text, get a Spacy object\n",
    "doc = nlp(book)"
   ]
  },
  {
   "cell_type": "markdown",
   "metadata": {},
   "source": [
    "## Let's create our own NLP pipeline with Spacy!"
   ]
  },
  {
   "cell_type": "markdown",
   "metadata": {},
   "source": [
    "### Step 1: Sentence splitting\n",
    "\n",
    "#### May sound trivial, but it's not! (e.g., U.K. or Yahoo!) Spacy uses a statistical model to generate accurate predictions. This works well out of the box for general-purpose text or web text. For social media use dedicated libraries."
   ]
  },
  {
   "cell_type": "code",
   "execution_count": 9,
   "metadata": {},
   "outputs": [
    {
     "name": "stdout",
     "output_type": "stream",
     "text": [
      "Sentence 1: Frankenstein, or the Modern Prometheus by Mary Wollstonecraft (Godwin) Shelley Letter 1 St. Petersburgh, Dec. 11th, 17-- TO Mrs. Saville, England \n",
      "\n",
      "Sentence 2: You will rejoice to hear that no disaster has accompanied the commencement of an enterprise which you have regarded with such evil forebodings. \n",
      "\n",
      "Sentence 3: I arrived here yesterday, and my first task is to assure my dear sister of my welfare and increasing confidence in the success of my undertaking. \n",
      "\n"
     ]
    }
   ],
   "source": [
    "sentences = [sent for sent in doc.sents]\n",
    "print('Sentence 1:',sentences[0],'\\n')\n",
    "print('Sentence 2:',sentences[1],'\\n')\n",
    "print('Sentence 3:',sentences[2],'\\n')"
   ]
  },
  {
   "cell_type": "markdown",
   "metadata": {},
   "source": [
    "### Step 2: Tokenization\n",
    "\n",
    "#### The task of splitting a text into meaningful segments called tokens. We segment the sentence into words, punctuation, etc. This is done by first splitting on whitespace characters and them applying rules specific to each language. For example, \"don't\" does not contain whitespace, but should be split into two tokens, \"do\" and \"n't\", while \"U.K.\" should always remain one token and \"but,\" shouldn't."
   ]
  },
  {
   "cell_type": "markdown",
   "metadata": {},
   "source": [
    "### We will analyze the methods on an example sentence first"
   ]
  },
  {
   "cell_type": "code",
   "execution_count": 10,
   "metadata": {},
   "outputs": [
    {
     "name": "stdout",
     "output_type": "stream",
     "text": [
      "I am already far north of London, and as I walk in the streets of Petersburgh, I feel a cold northern breeze play upon my cheeks, which braces my nerves and fills me with delight. \n",
      "\n",
      "['I', 'am', 'already', 'far', 'north', 'of', 'London', ',', 'and', 'as', 'I', 'walk', 'in', 'the', 'streets', 'of', 'Petersburgh', ',', 'I', 'feel', 'a', 'cold', 'northern', 'breeze', 'play', 'upon', 'my', 'cheeks', ',', 'which', 'braces', 'my', 'nerves', 'and', 'fills', 'me', 'with', 'delight', '.']\n"
     ]
    }
   ],
   "source": [
    "example = 'I am already far north of London, and as I walk in the streets of Petersburgh, I feel a cold northern breeze play upon my cheeks, which braces my nerves and fills me with delight.'\n",
    "\n",
    "doc = nlp(example)\n",
    "\n",
    "#strings are encoded to hashes\n",
    "tokens = [token.text for token in doc]\n",
    "\n",
    "print(example,'\\n')\n",
    "print(tokens)"
   ]
  },
  {
   "cell_type": "markdown",
   "metadata": {},
   "source": [
    "### Step 3: Part of speech tagging\n",
    "\n",
    "#### The model makes a prediction of which tag or label most likely applies in this context. For example, a word following \"the\" in English is most likely a noun."
   ]
  },
  {
   "cell_type": "code",
   "execution_count": 11,
   "metadata": {},
   "outputs": [
    {
     "name": "stdout",
     "output_type": "stream",
     "text": [
      "I am already far north of London, and as I walk in the streets of Petersburgh, I feel a cold northern breeze play upon my cheeks, which braces my nerves and fills me with delight. \n",
      "\n",
      "[('I', 'PRON'), ('am', 'AUX'), ('already', 'ADV'), ('far', 'ADV'), ('north', 'ADV'), ('of', 'ADP'), ('London', 'PROPN'), (',', 'PUNCT'), ('and', 'CCONJ'), ('as', 'SCONJ'), ('I', 'PRON'), ('walk', 'VERB'), ('in', 'ADP'), ('the', 'DET'), ('streets', 'NOUN'), ('of', 'ADP'), ('Petersburgh', 'PROPN'), (',', 'PUNCT'), ('I', 'PRON'), ('feel', 'VERB'), ('a', 'DET'), ('cold', 'ADJ'), ('northern', 'ADJ'), ('breeze', 'NOUN'), ('play', 'NOUN'), ('upon', 'SCONJ'), ('my', 'DET'), ('cheeks', 'NOUN'), (',', 'PUNCT'), ('which', 'DET'), ('braces', 'VERB'), ('my', 'DET'), ('nerves', 'NOUN'), ('and', 'CCONJ'), ('fills', 'VERB'), ('me', 'PRON'), ('with', 'ADP'), ('delight', 'NOUN'), ('.', 'PUNCT')]\n"
     ]
    }
   ],
   "source": [
    "pos_tagged = [(token.text, token.pos_) for token in doc]\n",
    "\n",
    "print(example,'\\n')\n",
    "print(pos_tagged)"
   ]
  },
  {
   "cell_type": "code",
   "execution_count": 12,
   "metadata": {},
   "outputs": [
    {
     "name": "stdout",
     "output_type": "stream",
     "text": [
      "coordinating conjunction\n",
      "adposition\n",
      "determiner\n"
     ]
    }
   ],
   "source": [
    "print(spacy.explain('CCONJ'))\n",
    "print(spacy.explain('ADP'))\n",
    "print(spacy.explain('DET'))"
   ]
  },
  {
   "cell_type": "markdown",
   "metadata": {},
   "source": [
    "### When unsure, see here for more details: http://universaldependencies.org/u/pos/all.html"
   ]
  },
  {
   "cell_type": "markdown",
   "metadata": {},
   "source": [
    "#### More detailed annotation:"
   ]
  },
  {
   "cell_type": "code",
   "execution_count": 13,
   "metadata": {},
   "outputs": [
    {
     "name": "stdout",
     "output_type": "stream",
     "text": [
      "[('I', 'PRP'), ('am', 'VBP'), ('already', 'RB'), ('far', 'RB'), ('north', 'RB'), ('of', 'IN'), ('London', 'NNP'), (',', ','), ('and', 'CC'), ('as', 'IN'), ('I', 'PRP'), ('walk', 'VBP'), ('in', 'IN'), ('the', 'DT'), ('streets', 'NNS'), ('of', 'IN'), ('Petersburgh', 'NNP'), (',', ','), ('I', 'PRP'), ('feel', 'VBP'), ('a', 'DT'), ('cold', 'JJ'), ('northern', 'JJ'), ('breeze', 'NN'), ('play', 'NN'), ('upon', 'IN'), ('my', 'PRP$'), ('cheeks', 'NNS'), (',', ','), ('which', 'WDT'), ('braces', 'VBZ'), ('my', 'PRP$'), ('nerves', 'NNS'), ('and', 'CC'), ('fills', 'VBZ'), ('me', 'PRP'), ('with', 'IN'), ('delight', 'NN'), ('.', '.')]\n"
     ]
    }
   ],
   "source": [
    "pos_tagged = [(token.text, token.tag_) for token in doc]\n",
    "\n",
    "print(pos_tagged)"
   ]
  },
  {
   "cell_type": "code",
   "execution_count": 14,
   "metadata": {},
   "outputs": [
    {
     "name": "stdout",
     "output_type": "stream",
     "text": [
      "pronoun, personal\n",
      "verb, non-3rd person singular present\n"
     ]
    }
   ],
   "source": [
    "print(spacy.explain('PRP'))\n",
    "print(spacy.explain('VBP'))"
   ]
  },
  {
   "cell_type": "markdown",
   "metadata": {},
   "source": [
    "### Step 4: Named entity recognition\n",
    "\n",
    "#### For example, a person, a country, a product or a book title. Spacy can recognise various types of named entities in a document. This doesn't always work perfectly and might need some tuning later, depending on your use case.\n",
    "\n",
    "Built in entity types: <br>\n",
    "\n",
    "PERSON  People, including fictional.  <br>\n",
    "NORP\tNationalities or religious or political groups. <br>\n",
    "FAC\tBuildings, airports, highways, bridges, etc. <br>\n",
    "ORG\tCompanies, agencies, institutions, etc. <br>\n",
    "GPE\tCountries, cities, states. <br>\n",
    "LOC\tNon-GPE locations, mountain ranges, bodies of water. <br>\n",
    "PRODUCT\tObjects, vehicles, foods, etc. (Not services.) <br>\n",
    "EVENT\tNamed hurricanes, battles, wars, sports events, etc. <br>\n",
    "WORK_OF_ART\tTitles of books, songs, etc. <br>\n",
    "LAW\tNamed documents made into laws. <br>\n",
    "LANGUAGE\tAny named language. <br>\n",
    "DATE\tAbsolute or relative dates or periods. <br>\n",
    "TIME\tTimes smaller than a day. <br>\n",
    "PERCENT\tPercentage, including \"%\". <br>\n",
    "MONEY\tMonetary values, including unit. <br>\n",
    "QUANTITY\tMeasurements, as of weight or distance. <br>\n",
    "ORDINAL\t\"first\", \"second\", etc. <br>\n",
    "CARDINAL\tNumerals that do not fall under another type. <br>"
   ]
  },
  {
   "cell_type": "code",
   "execution_count": 15,
   "metadata": {},
   "outputs": [
    {
     "name": "stdout",
     "output_type": "stream",
     "text": [
      "I am already far north of London, and as I walk in the streets of Petersburgh, I feel a cold northern breeze play upon my cheeks, which braces my nerves and fills me with delight. \n",
      "\n",
      "London GPE\n",
      "Petersburgh GPE\n"
     ]
    }
   ],
   "source": [
    "print(example,'\\n')\n",
    "for ent in doc.ents:\n",
    "    print(ent.text, ent.label_)"
   ]
  },
  {
   "cell_type": "markdown",
   "metadata": {},
   "source": [
    "### Step 5: Removing stop words"
   ]
  },
  {
   "cell_type": "markdown",
   "metadata": {},
   "source": [
    "Let's check out all the stopwords:"
   ]
  },
  {
   "cell_type": "code",
   "execution_count": 16,
   "metadata": {},
   "outputs": [
    {
     "name": "stdout",
     "output_type": "stream",
     "text": [
      "Number of stop words: 326\n",
      "First ten stop words: ['along', 'part', 'fifteen', \"n't\", 'whole', 'whom', 'where', 'nothing', 'five', 'must']\n"
     ]
    }
   ],
   "source": [
    "spacy_stopwords = spacy.lang.en.stop_words.STOP_WORDS\n",
    "print('Number of stop words: %d' % len(spacy_stopwords))\n",
    "print('First ten stop words:',list(spacy_stopwords)[:10])"
   ]
  },
  {
   "cell_type": "markdown",
   "metadata": {},
   "source": [
    "Detecting stopwords in the example:"
   ]
  },
  {
   "cell_type": "code",
   "execution_count": 17,
   "metadata": {},
   "outputs": [
    {
     "name": "stdout",
     "output_type": "stream",
     "text": [
      "I am already far north of London, and as I walk in the streets of Petersburgh, I feel a cold northern breeze play upon my cheeks, which braces my nerves and fills me with delight. \n",
      "\n",
      "['I', 'am', 'already', 'of', 'and', 'as', 'I', 'in', 'the', 'of', 'I', 'a', 'upon', 'my', 'which', 'my', 'and', 'me', 'with']\n"
     ]
    }
   ],
   "source": [
    "print(example,'\\n')\n",
    "\n",
    "stop_words = [token.text for token in doc if token.is_stop]\n",
    "\n",
    "print(stop_words)"
   ]
  },
  {
   "cell_type": "markdown",
   "metadata": {},
   "source": [
    "#### Sometimes it's useful to define a custom list of stopwords. Other solutions: https://www.ranks.nl/stopwords \n"
   ]
  },
  {
   "cell_type": "markdown",
   "metadata": {},
   "source": [
    "### Step 6: Lemmatization\n",
    "\n",
    "#### A rule-based deterministic lemmatizer maps the surface form of a token to a lemma."
   ]
  },
  {
   "cell_type": "code",
   "execution_count": 18,
   "metadata": {},
   "outputs": [
    {
     "name": "stdout",
     "output_type": "stream",
     "text": [
      "I am already far north of London, and as I walk in the streets of Petersburgh, I feel a cold northern breeze play upon my cheeks, which braces my nerves and fills me with delight. \n",
      "\n",
      "I ---> -PRON-\n",
      "am ---> be\n",
      "I ---> -PRON-\n",
      "streets ---> street\n",
      "I ---> -PRON-\n",
      "my ---> -PRON-\n",
      "cheeks ---> cheek\n",
      "braces ---> brace\n",
      "my ---> -PRON-\n",
      "nerves ---> nerve\n",
      "fills ---> fill\n",
      "me ---> -PRON-\n"
     ]
    }
   ],
   "source": [
    "print(example,'\\n')\n",
    "for token in doc:\n",
    "    if token.text != token.lemma_:\n",
    "        print(token.text,'--->',token.lemma_)"
   ]
  },
  {
   "cell_type": "markdown",
   "metadata": {},
   "source": [
    "### Step 7: Chunking (shallow parsing)\n",
    "\n",
    "#### Noun chunks are \"base noun phrases\" – flat phrases that have a noun as their head -- a noun plus the words describing the noun – for example, \"the lavish green grass\" or \"the world’s largest tech fund\". "
   ]
  },
  {
   "cell_type": "code",
   "execution_count": 19,
   "metadata": {},
   "outputs": [
    {
     "name": "stdout",
     "output_type": "stream",
     "text": [
      "I am already far north of London, and as I walk in the streets of Petersburgh, I feel a cold northern breeze play upon my cheeks, which braces my nerves and fills me with delight. \n",
      "\n",
      "I\n",
      "London\n",
      "I\n",
      "the streets\n",
      "Petersburgh\n",
      "I\n",
      "a cold northern breeze\n",
      "my cheeks\n",
      "my nerves\n",
      "me\n",
      "delight\n"
     ]
    }
   ],
   "source": [
    "print(example,'\\n')\n",
    "\n",
    "for chunk in doc.noun_chunks:\n",
    "    print(chunk.text)"
   ]
  },
  {
   "cell_type": "markdown",
   "metadata": {},
   "source": [
    "### Step 8: Dependancy parsing\n",
    "\n",
    "#### The terms head and child describe the words connected by an arc in the dependency tree. The type of syntactic relation that connects the child to the head can be obtain through .dep_."
   ]
  },
  {
   "cell_type": "code",
   "execution_count": 20,
   "metadata": {},
   "outputs": [
    {
     "name": "stdout",
     "output_type": "stream",
     "text": [
      "I am already far north of London, and as I walk in the streets of Petersburgh, I feel a cold northern breeze play upon my cheeks, which braces my nerves and fills me with delight. \n",
      "\n",
      "Token: I Head: am Children: []\n",
      "Token: am Head: am Children: [I, already, north, ,, and, feel]\n",
      "Token: already Head: am Children: []\n",
      "Token: far Head: north Children: []\n",
      "Token: north Head: am Children: [far, of]\n",
      "Token: of Head: north Children: [London]\n",
      "Token: London Head: of Children: []\n",
      "Token: , Head: am Children: []\n",
      "Token: and Head: am Children: []\n",
      "Token: as Head: walk Children: []\n",
      "Token: I Head: walk Children: []\n",
      "Token: walk Head: feel Children: [as, I, in]\n",
      "Token: in Head: walk Children: [streets]\n",
      "Token: the Head: streets Children: []\n",
      "Token: streets Head: in Children: [the, of]\n",
      "Token: of Head: streets Children: [Petersburgh]\n",
      "Token: Petersburgh Head: of Children: []\n",
      "Token: , Head: feel Children: []\n",
      "Token: I Head: feel Children: []\n",
      "Token: feel Head: am Children: [walk, ,, I, play, .]\n",
      "Token: a Head: breeze Children: []\n",
      "Token: cold Head: breeze Children: []\n",
      "Token: northern Head: breeze Children: []\n",
      "Token: breeze Head: play Children: [a, cold, northern]\n",
      "Token: play Head: feel Children: [breeze, upon]\n",
      "Token: upon Head: play Children: [cheeks]\n",
      "Token: my Head: cheeks Children: []\n",
      "Token: cheeks Head: upon Children: [my, ,, braces]\n",
      "Token: , Head: cheeks Children: []\n",
      "Token: which Head: braces Children: []\n",
      "Token: braces Head: cheeks Children: [which, nerves, and, fills]\n",
      "Token: my Head: nerves Children: []\n",
      "Token: nerves Head: braces Children: [my]\n",
      "Token: and Head: braces Children: []\n",
      "Token: fills Head: braces Children: [me, with]\n",
      "Token: me Head: fills Children: []\n",
      "Token: with Head: fills Children: [delight]\n",
      "Token: delight Head: with Children: []\n",
      "Token: . Head: feel Children: []\n"
     ]
    }
   ],
   "source": [
    "print(example,'\\n')\n",
    "\n",
    "for token in doc:\n",
    "    print('Token:',token.text,'Head:',token.head.text, 'Children:',[child for child in token.children])"
   ]
  },
  {
   "cell_type": "markdown",
   "metadata": {},
   "source": [
    "### Counting word occurences"
   ]
  },
  {
   "cell_type": "code",
   "execution_count": 21,
   "metadata": {},
   "outputs": [
    {
     "name": "stdout",
     "output_type": "stream",
     "text": [
      "I am already far north of London, and as I walk in the streets of Petersburgh, I feel a cold northern breeze play upon my cheeks, which braces my nerves and fills me with delight. \n",
      "\n",
      "[('I', 3), (',', 3), ('of', 2), ('and', 2), ('my', 2), ('am', 1), ('already', 1), ('far', 1), ('north', 1), ('London', 1), ('as', 1), ('walk', 1), ('in', 1), ('the', 1), ('streets', 1), ('Petersburgh', 1), ('feel', 1), ('a', 1), ('cold', 1), ('northern', 1), ('breeze', 1), ('play', 1), ('upon', 1), ('cheeks', 1), ('which', 1), ('braces', 1), ('nerves', 1), ('fills', 1), ('me', 1), ('with', 1), ('delight', 1), ('.', 1)]\n"
     ]
    }
   ],
   "source": [
    "from collections import Counter\n",
    "\n",
    "print(example,'\\n')\n",
    "words = [token.text for token in doc]\n",
    "\n",
    "# five most common tokens\n",
    "word_freq = Counter(words)\n",
    "common_words = word_freq.most_common()\n",
    "\n",
    "print(common_words)"
   ]
  },
  {
   "cell_type": "markdown",
   "metadata": {},
   "source": [
    "### Without stop words and punctuation"
   ]
  },
  {
   "cell_type": "code",
   "execution_count": 22,
   "metadata": {},
   "outputs": [
    {
     "name": "stdout",
     "output_type": "stream",
     "text": [
      "[('far', 1), ('north', 1), ('London', 1), ('walk', 1), ('streets', 1), ('Petersburgh', 1), ('feel', 1), ('cold', 1), ('northern', 1), ('breeze', 1), ('play', 1), ('cheeks', 1), ('braces', 1), ('nerves', 1), ('fills', 1), ('delight', 1)]\n"
     ]
    }
   ],
   "source": [
    "words = [token.text for token in doc if token.is_stop != True and token.is_punct != True]\n",
    "\n",
    "# five most common tokens\n",
    "word_freq = Counter(words)\n",
    "common_words = word_freq.most_common()\n",
    "\n",
    "print(common_words)"
   ]
  },
  {
   "cell_type": "markdown",
   "metadata": {
    "collapsed": true
   },
   "source": [
    "## Putting all the components together"
   ]
  },
  {
   "cell_type": "markdown",
   "metadata": {},
   "source": [
    "### Under the hood: the pipeline [\"tokenizer\",\"tagger\", \"parser\", \"ner\"]."
   ]
  },
  {
   "cell_type": "markdown",
   "metadata": {},
   "source": [
    "#### The NLP pipeline with Spacy\n",
    "<img src=\"spacy.png\">"
   ]
  },
  {
   "cell_type": "code",
   "execution_count": 23,
   "metadata": {},
   "outputs": [],
   "source": [
    "nlp = spacy.load('en_core_web_sm')"
   ]
  },
  {
   "cell_type": "markdown",
   "metadata": {},
   "source": [
    "### If you don't need a particular component of the pipeline – for example, the tagger or the parser, you can disable loading it. This can sometimes make a big difference and improve loading speed. "
   ]
  },
  {
   "cell_type": "code",
   "execution_count": 24,
   "metadata": {},
   "outputs": [
    {
     "data": {
      "text/plain": [
       "('tagger', <spacy.pipeline.pipes.Tagger at 0x7ff6fd4f3df0>)"
      ]
     },
     "execution_count": 24,
     "metadata": {},
     "output_type": "execute_result"
    }
   ],
   "source": [
    "nlp.remove_pipe('parser')\n",
    "nlp.remove_pipe('tagger')"
   ]
  },
  {
   "cell_type": "markdown",
   "metadata": {
    "collapsed": true
   },
   "source": [
    "# Task 1: Seniment analysis"
   ]
  },
  {
   "cell_type": "markdown",
   "metadata": {
    "collapsed": true
   },
   "source": [
    "### Initialize the analyzer. Typically used for data from social media (short sentences)."
   ]
  },
  {
   "cell_type": "code",
   "execution_count": 25,
   "metadata": {},
   "outputs": [],
   "source": [
    "analyzer = SentimentIntensityAnalyzer()\n",
    "vs = analyzer.polarity_scores(example)"
   ]
  },
  {
   "cell_type": "markdown",
   "metadata": {},
   "source": [
    "### The sentiment score consits of four values. Neutral, positive and negative sum to one. The final score is obtained by thresholding the compound value (e.g. +/-0.05)."
   ]
  },
  {
   "cell_type": "code",
   "execution_count": 26,
   "metadata": {},
   "outputs": [
    {
     "name": "stdout",
     "output_type": "stream",
     "text": [
      "I am already far north of London, and as I walk in the streets of Petersburgh, I feel a cold northern breeze play upon my cheeks, which braces my nerves and fills me with delight. \n",
      "\n",
      "Negative sentiment: 0.035\n",
      "Neutral sentiment: 0.806\n",
      "Positive sentiment: 0.159\n",
      "Compound sentiment: 0.7096\n"
     ]
    }
   ],
   "source": [
    "print(example, '\\n')\n",
    "print('Negative sentiment:',vs['neg'])\n",
    "print('Neutral sentiment:',vs['neu'])\n",
    "print('Positive sentiment:',vs['pos'])\n",
    "print('Compound sentiment:',vs['compound'])"
   ]
  },
  {
   "cell_type": "markdown",
   "metadata": {},
   "source": [
    "### We can now observe the distributions of sentiment across all sentences in the book Pride and Prejudice:"
   ]
  },
  {
   "cell_type": "code",
   "execution_count": 27,
   "metadata": {},
   "outputs": [],
   "source": [
    "nlp = spacy.load('en_core_web_sm')\n",
    "doc = nlp(books[3])"
   ]
  },
  {
   "cell_type": "code",
   "execution_count": 28,
   "metadata": {},
   "outputs": [
    {
     "data": {
      "text/plain": [
       "Text(0, 0.5, 'Number of sentences')"
      ]
     },
     "execution_count": 28,
     "metadata": {},
     "output_type": "execute_result"
    },
    {
     "data": {
      "image/png": "[encoded data removed]",
      "text/plain": [
       "<Figure size 432x288 with 1 Axes>"
      ]
     },
     "metadata": {
      "needs_background": "light"
     },
     "output_type": "display_data"
    }
   ],
   "source": [
    "positive_sent = []\n",
    "#iterate through the sentences, get polarity scores, choose a value\n",
    "[positive_sent.append(analyzer.polarity_scores(sent.text)['pos']) for sent in doc.sents]\n",
    "plt.hist(positive_sent,bins=15)\n",
    "plt.xlim([0,1])\n",
    "plt.ylim([0,8000])\n",
    "plt.xlabel('Positive sentiment')\n",
    "plt.ylabel('Number of sentences')"
   ]
  },
  {
   "cell_type": "code",
   "execution_count": 29,
   "metadata": {},
   "outputs": [
    {
     "data": {
      "text/plain": [
       "Text(0, 0.5, 'Number of sentences')"
      ]
     },
     "execution_count": 29,
     "metadata": {},
     "output_type": "execute_result"
    },
    {
     "data": {
      "image/png": "[encoded data removed]",
      "text/plain": [
       "<Figure size 432x288 with 1 Axes>"
      ]
     },
     "metadata": {
      "needs_background": "light"
     },
     "output_type": "display_data"
    }
   ],
   "source": [
    "negative_sent = []\n",
    "[negative_sent.append(analyzer.polarity_scores(sent.text)['neg']) for sent in doc.sents]\n",
    "plt.hist(negative_sent,bins=15)\n",
    "plt.xlim([0,1])\n",
    "plt.ylim([0,8000])\n",
    "plt.xlabel('Negative sentiment')\n",
    "plt.ylabel('Number of sentences')"
   ]
  },
  {
   "cell_type": "code",
   "execution_count": 30,
   "metadata": {},
   "outputs": [
    {
     "data": {
      "text/plain": [
       "Text(0, 0.5, 'Number of sentences')"
      ]
     },
     "execution_count": 30,
     "metadata": {},
     "output_type": "execute_result"
    },
    {
     "data": {
      "image/png": "[encoded data removed]",
      "text/plain": [
       "<Figure size 432x288 with 1 Axes>"
      ]
     },
     "metadata": {
      "needs_background": "light"
     },
     "output_type": "display_data"
    }
   ],
   "source": [
    "total_sent = []\n",
    "[total_sent.append(analyzer.polarity_scores(sent.text)['compound']) for sent in doc.sents]\n",
    "plt.hist(total_sent,bins = 15)\n",
    "plt.xlim([-1,1])\n",
    "plt.ylim([0,8000])\n",
    "plt.xlabel('Compound sentiment')\n",
    "plt.ylabel('Number of sentences')"
   ]
  },
  {
   "cell_type": "code",
   "execution_count": 31,
   "metadata": {},
   "outputs": [
    {
     "name": "stdout",
     "output_type": "stream",
     "text": [
      "Number of positive sentences: 2788\n",
      "Number of negative sentences: 1368\n",
      "Number of neutral sentences: 2000\n"
     ]
    }
   ],
   "source": [
    "sents = [analyzer.polarity_scores(sent.text)['compound'] for sent in doc.sents]\n",
    "print('Number of positive sentences:',sum(np.array(sents)>=0.05))\n",
    "print('Number of negative sentences:',sum(np.array(sents)<=-0.05))\n",
    "print('Number of neutral sentences:',sum(np.abs(np.array(sents))<0.05))"
   ]
  },
  {
   "cell_type": "markdown",
   "metadata": {
    "collapsed": true
   },
   "source": [
    "#### Most of the sentences are quite neutral in sentiment. This is not the case when working with data from other sources (e.g., in social media opinions are strong and polarized (bimodal distribution))."
   ]
  },
  {
   "cell_type": "markdown",
   "metadata": {
    "collapsed": true
   },
   "source": [
    "# Task 2: Document classification: Can we detect paragraphs from Frankenstein?"
   ]
  },
  {
   "cell_type": "code",
   "execution_count": 32,
   "metadata": {},
   "outputs": [
    {
     "name": "stdout",
     "output_type": "stream",
     "text": [
      "['DRACULA.txt', 'Frankenstein.txt', 'Moby_Dick.txt', 'PRIDE_AND_PREJUDICE.txt']\n"
     ]
    }
   ],
   "source": [
    "# Let's load our corpus via NLTK this time\n",
    "from nltk.corpus import PlaintextCorpusReader\n",
    "?PlaintextCorpusReader\n",
    "our_books = PlaintextCorpusReader(corpus_root, '.*.txt')\n",
    "print(our_books.fileids())"
   ]
  },
  {
   "cell_type": "markdown",
   "metadata": {},
   "source": [
    "### We will segment the books into equally long chunks"
   ]
  },
  {
   "cell_type": "code",
   "execution_count": 33,
   "metadata": {},
   "outputs": [
    {
     "name": "stdout",
     "output_type": "stream",
     "text": [
      "DRACULA.txt :\n",
      "Number of sentences: 9303\n",
      "Number of chunks: 187 \n",
      "\n",
      "Frankenstein.txt :\n",
      "Number of sentences: 3378\n",
      "Number of chunks: 68 \n",
      "\n",
      "Moby_Dick.txt :\n",
      "Number of sentences: 9609\n",
      "Number of chunks: 193 \n",
      "\n",
      "PRIDE_AND_PREJUDICE.txt :\n",
      "Number of sentences: 6055\n",
      "Number of chunks: 122 \n",
      "\n"
     ]
    }
   ],
   "source": [
    "def get_chunks(l, n):\n",
    "    \"\"\"Yield successive n-sized chunks from l.\"\"\"\n",
    "    for i in range(0, len(l), n):\n",
    "        yield l[i:i + n]\n",
    "\n",
    "\n",
    "# Get the data\n",
    "book_id = {f:n for n,f in enumerate(our_books.fileids())} # dictionary of books\n",
    "\n",
    "chunks = list()\n",
    "chunk_class = list() # this list contains the original book of the chunk, for evaluation\n",
    "\n",
    "limit = 500 # how many chunks total\n",
    "size = 50 # how many sentences per chunk/page\n",
    "\n",
    "for f in our_books.fileids():\n",
    "    sentences = our_books.sents(f)\n",
    "    print(f,\":\")\n",
    "    print('Number of sentences:',len(sentences))\n",
    "    \n",
    "    # create chunks\n",
    "    chunks_of_sents = [x for x in get_chunks(sentences,size)] # this is a list of lists of sentences, which are a list of tokens\n",
    "    chs = list()\n",
    "    \n",
    "    # regroup so to have a list of chunks which are strings\n",
    "    for c in chunks_of_sents:\n",
    "        grouped_chunk = list()\n",
    "        for s in c:\n",
    "            grouped_chunk.extend(s)\n",
    "        chs.append(\" \".join(grouped_chunk))\n",
    "    print(\"Number of chunks:\",len(chs),'\\n')\n",
    "    \n",
    "    # filter to the limit, to have the same number of chunks per book\n",
    "    chunks.extend(chs[:limit])\n",
    "    chunk_class.extend([book_id[f] for _ in range(len(chs[:limit]))])"
   ]
  },
  {
   "cell_type": "markdown",
   "metadata": {},
   "source": [
    "### Representing the chunks with bag-of-words"
   ]
  },
  {
   "cell_type": "code",
   "execution_count": 33,
   "metadata": {},
   "outputs": [
    {
     "name": "stdout",
     "output_type": "stream",
     "text": [
      "Number of samples: 570\n",
      "Number of features: 23116\n"
     ]
    }
   ],
   "source": [
    "vectorizer = CountVectorizer()\n",
    "\n",
    "#initialize and specify minumum number of occurences to avoid untractable number of features\n",
    "#vectorizer = CountVectorizer(min_df = 2) if we want high frequency\n",
    "\n",
    "#create bag of words features\n",
    "X = vectorizer.fit_transform(chunks)\n",
    "\n",
    "print('Number of samples:',X.toarray().shape[0])\n",
    "print('Number of features:',X.toarray().shape[1])\n",
    "\n",
    "#mask and convert to int Frankenstein\n",
    "Y = np.array(chunk_class) == 1\n",
    "Y = Y.astype(int)  \n",
    "\n",
    "#shuffle the data\n",
    "X, Y = shuffle(X, Y, random_state=0)\n",
    "\n",
    "#split into training and test set\n",
    "X_train, X_test, Y_train, Y_test = train_test_split(X, Y, test_size=0.2, random_state=42)"
   ]
  },
  {
   "cell_type": "markdown",
   "metadata": {},
   "source": [
    "### Let's fit the regularized logistic regression. We will crossvalidate the regularization parameter on the training set."
   ]
  },
  {
   "cell_type": "code",
   "execution_count": 34,
   "metadata": {},
   "outputs": [],
   "source": [
    "accs = []\n",
    "\n",
    "#the grid of regularization parameter \n",
    "grid = [0.01,0.1,1,10,100,1000,10000]\n",
    "\n",
    "for c in grid:\n",
    "    \n",
    "    #initialize the classifier\n",
    "    clf = LogisticRegression(random_state=0, solver='lbfgs',C = c)\n",
    "    \n",
    "    #crossvalidate\n",
    "    scores = cross_val_score(clf, X_train,Y_train, cv=10)\n",
    "    accs.append(np.mean(scores))"
   ]
  },
  {
   "cell_type": "code",
   "execution_count": 35,
   "metadata": {},
   "outputs": [
    {
     "data": {
      "text/plain": [
       "(0.986, 1)"
      ]
     },
     "execution_count": 35,
     "metadata": {},
     "output_type": "execute_result"
    },
    {
     "data": {
      "image/png": "[encoded data removed]",
      "text/plain": [
       "<Figure size 432x288 with 1 Axes>"
      ]
     },
     "metadata": {},
     "output_type": "display_data"
    }
   ],
   "source": [
    "plt.plot(accs)\n",
    "plt.xticks(range(len(grid)), grid)\n",
    "plt.xlabel('Regularization parameter \\n (Low - strong regularization, High - weak regularization)')\n",
    "plt.ylabel('Crossvalidation accuracy')\n",
    "plt.ylim([0.986,1])"
   ]
  },
  {
   "cell_type": "markdown",
   "metadata": {},
   "source": [
    "### Let's train again, on the entire training set, with the chosen regularization parameter. We will test on the test set"
   ]
  },
  {
   "cell_type": "code",
   "execution_count": 36,
   "metadata": {},
   "outputs": [
    {
     "name": "stdout",
     "output_type": "stream",
     "text": [
      "Accuracy: 0.9824561403508771\n"
     ]
    }
   ],
   "source": [
    "clf = LogisticRegression(random_state=0, solver='lbfgs',C = 10).fit(X_train,Y_train)\n",
    "\n",
    "#predict on the test set\n",
    "print('Accuracy:',clf.score(X_test,Y_test))"
   ]
  },
  {
   "cell_type": "markdown",
   "metadata": {},
   "source": [
    "### What features characterize Frankenstein? BOW are interpretable!"
   ]
  },
  {
   "cell_type": "code",
   "execution_count": 37,
   "metadata": {},
   "outputs": [
    {
     "name": "stdout",
     "output_type": "stream",
     "text": [
      "['frankenstein' 'towards' 'poor' 'death' 'creature' 'had' 'father' 'of'\n",
      " 'by' 'yet' 'but' 'will' 'this' 'my' 'justine' 'who' 'and' 'misery' 'me'\n",
      " 'which']\n"
     ]
    }
   ],
   "source": [
    "coefs=clf.coef_[0]\n",
    "top_three = np.argpartition(coefs, -20)[-20:]\n",
    "\n",
    "print(np.array(vectorizer.get_feature_names())[top_three])"
   ]
  },
  {
   "cell_type": "markdown",
   "metadata": {
    "collapsed": true
   },
   "source": [
    "### We can perfectly predict paragraphs from Frankenstein! We saw issues of high dimensionality when using bag of words (more features than samples) and how regularization helps."
   ]
  },
  {
   "cell_type": "markdown",
   "metadata": {},
   "source": [
    "### Alternative text representation: word emdeddings, pretrained on intergraded in Spacy (300-dimensional word vectors trained on Common Crawl with GloVe.) Depending on the application, might be suitable or not"
   ]
  },
  {
   "cell_type": "code",
   "execution_count": 38,
   "metadata": {},
   "outputs": [
    {
     "name": "stdout",
     "output_type": "stream",
     "text": [
      "I am already far north of London, and as I walk in the streets of Petersburgh, I feel a cold northern breeze play upon my cheeks, which braces my nerves and fills me with delight. \n",
      "\n",
      "Embedding representation: [0.1443232, 0.33464453, 0.8453134, 0.9833504, 0.39043787, -0.9550124, -0.653582, -0.3262405, 0.5481318, -0.25240445] ...\n"
     ]
    }
   ],
   "source": [
    "print(example,'\\n')\n",
    "print('Embedding representation:',list((nlp(example).vector)[0:10]),'...')"
   ]
  },
  {
   "cell_type": "markdown",
   "metadata": {},
   "source": [
    "# Task 3: Topic detection"
   ]
  },
  {
   "cell_type": "code",
   "execution_count": 39,
   "metadata": {},
   "outputs": [
    {
     "name": "stdout",
     "output_type": "stream",
     "text": [
      "DRACULA.txt\n",
      "Number of sentences: 9303\n",
      "Number of chunks: 187 \n",
      "\n",
      "Frankenstein.txt\n",
      "Number of sentences: 3378\n",
      "Number of chunks: 68 \n",
      "\n",
      "Moby_Dick.txt\n",
      "Number of sentences: 9609\n",
      "Number of chunks: 193 \n",
      "\n",
      "PRIDE_AND_PREJUDICE.txt\n",
      "Number of sentences: 6055\n",
      "Number of chunks: 122 \n",
      "\n"
     ]
    }
   ],
   "source": [
    "# Get the chunks again (into smaller chunks)\n",
    "book_id = {f:n for n,f in enumerate(our_books.fileids())} # dictionary of books\n",
    "chunks = list()\n",
    "chunk_class = list() # this list contains the original book of the chunk, for evaluation\n",
    "\n",
    "limit = 60 # how many chunks total\n",
    "size = 50 # how many sentences per chunk/page\n",
    "\n",
    "for f in our_books.fileids():\n",
    "    sentences = our_books.sents(f)\n",
    "    print(f)\n",
    "    print('Number of sentences:',len(sentences))\n",
    "    \n",
    "    # create chunks\n",
    "    chunks_of_sents = [x for x in get_chunks(sentences,size)] # this is a list of lists of sentences, which are a list of tokens\n",
    "    chs = list()\n",
    "    \n",
    "    # regroup so to have a list of chunks which are strings\n",
    "    for c in chunks_of_sents:\n",
    "        grouped_chunk = list()\n",
    "        for s in c:\n",
    "            grouped_chunk.extend(s)\n",
    "        chs.append(\" \".join(grouped_chunk))\n",
    "    print(\"Number of chunks:\",len(chs),'\\n')\n",
    "    \n",
    "    # filter to the limit, to have the same number of chunks per book\n",
    "    chunks.extend(chs[:limit])\n",
    "    chunk_class.extend([book_id[f] for _ in range(len(chs[:limit]))])"
   ]
  },
  {
   "cell_type": "code",
   "execution_count": 40,
   "metadata": {
    "scrolled": false
   },
   "outputs": [],
   "source": [
    "STOPWORDS = spacy.lang.en.stop_words.STOP_WORDS\n",
    "\n",
    "processed_docs = list()\n",
    "for doc in nlp.pipe(chunks, n_threads=5, batch_size=10):\n",
    "\n",
    "    # Process document using Spacy NLP pipeline.\n",
    "    ents = doc.ents  # Named entities\n",
    "\n",
    "    # Keep only words (no numbers, no punctuation).\n",
    "    # Lemmatize tokens, remove punctuation and remove stopwords.\n",
    "    doc = [token.lemma_ for token in doc if token.is_alpha and not token.is_stop]\n",
    "\n",
    "    # Remove common words from a stopword list and keep only words of length 3 or more.\n",
    "    doc = [token for token in doc if token not in STOPWORDS and len(token) > 2]\n",
    "\n",
    "    # Add named entities, but only if they are a compound of more than word.\n",
    "    doc.extend([str(entity) for entity in ents if len(entity) > 1])\n",
    "\n",
    "    processed_docs.append(doc)\n",
    "docs = processed_docs\n",
    "del processed_docs"
   ]
  },
  {
   "cell_type": "code",
   "execution_count": 41,
   "metadata": {},
   "outputs": [],
   "source": [
    "# Add bigrams too\n",
    "from gensim.models.phrases import Phrases\n",
    "\n",
    "# Add bigrams to docs (only ones that appear 15 times or more).\n",
    "bigram = Phrases(docs, min_count=15)\n",
    "\n",
    "for idx in range(len(docs)):\n",
    "    for token in bigram[docs[idx]]:\n",
    "        if '_' in token:\n",
    "            # Token is a bigram, add to document.\n",
    "            docs[idx].append(token)"
   ]
  },
  {
   "cell_type": "code",
   "execution_count": 42,
   "metadata": {},
   "outputs": [
    {
     "name": "stdout",
     "output_type": "stream",
     "text": [
      "Number of unique tokens: 3082\n",
      "Number of chunks: 240\n"
     ]
    }
   ],
   "source": [
    "# Create a dictionary representation of the documents, and filter out frequent and rare words.\n",
    "from gensim.corpora import Dictionary\n",
    "dictionary = Dictionary(docs)\n",
    "\n",
    "# Remove rare and common tokens.\n",
    "# Filter out words that occur too frequently or too rarely.\n",
    "max_freq = 0.5\n",
    "min_wordcount = 5\n",
    "dictionary.filter_extremes(no_below=min_wordcount, no_above=max_freq)\n",
    "\n",
    "# Bag-of-words representation of the documents.\n",
    "corpus = [dictionary.doc2bow(doc) for doc in docs]\n",
    "#MmCorpus.serialize(\"models/corpus.mm\", corpus)\n",
    "\n",
    "print('Number of unique tokens: %d' % len(dictionary))\n",
    "print('Number of chunks: %d' % len(corpus))"
   ]
  },
  {
   "cell_type": "code",
   "execution_count": 43,
   "metadata": {},
   "outputs": [],
   "source": [
    "# models\n",
    "from gensim.models import LdaMulticore\n",
    "params = {'passes': 10, 'random_state': seed}\n",
    "base_models = dict()\n",
    "model = LdaMulticore(corpus=corpus, num_topics=4, id2word=dictionary, workers=6,\n",
    "                passes=params['passes'], random_state=params['random_state'])"
   ]
  },
  {
   "cell_type": "code",
   "execution_count": 44,
   "metadata": {},
   "outputs": [
    {
     "data": {
      "text/plain": [
       "[(0,\n",
       "  '0.020*\"whale\" + 0.008*\"sea\" + 0.008*\"ship\" + 0.007*\"queequeg\" + 0.007*\"old\"'),\n",
       " (1,\n",
       "  '0.007*\"room\" + 0.007*\"old\" + 0.006*\"door\" + 0.006*\"sleep\" + 0.006*\"lucy\"'),\n",
       " (2,\n",
       "  '0.007*\"father\" + 0.006*\"life\" + 0.005*\"feeling\" + 0.005*\"elizabeth\" + 0.005*\"love\"'),\n",
       " (3,\n",
       "  '0.016*\"elizabeth\" + 0.012*\"darcy\" + 0.011*\"bingley\" + 0.010*\"miss\" + 0.010*\"lady\"')]"
      ]
     },
     "execution_count": 44,
     "metadata": {},
     "output_type": "execute_result"
    }
   ],
   "source": [
    "model.show_topics(num_words=5)"
   ]
  },
  {
   "cell_type": "code",
   "execution_count": 45,
   "metadata": {},
   "outputs": [
    {
     "data": {
      "text/plain": [
       "[('room', 0.007291499208530052),\n",
       " ('old', 0.007039136849679062),\n",
       " ('door', 0.006449568331674706),\n",
       " ('sleep', 0.006200326505136784),\n",
       " ('lucy', 0.005662325914042061),\n",
       " ('count', 0.005234063653189383),\n",
       " ('captain', 0.004762549664135698),\n",
       " ('bed', 0.004511725491931115),\n",
       " ('window', 0.004314902484600416),\n",
       " ('run', 0.0042517261641587785),\n",
       " ('try', 0.004157328966940313),\n",
       " ('sort', 0.00406342980788177),\n",
       " ('fear', 0.00396592982526111),\n",
       " ('lie', 0.003936078831395605),\n",
       " ('open', 0.0038815595450821176),\n",
       " ('don', 0.003809283145445534),\n",
       " ('bildad', 0.0037683233552241345),\n",
       " ('sea', 0.003717614128422667),\n",
       " ('face', 0.003694591212061089),\n",
       " ('ask', 0.0035705927439022653)]"
      ]
     },
     "execution_count": 45,
     "metadata": {},
     "output_type": "execute_result"
    }
   ],
   "source": [
    "model.show_topic(1,20)"
   ]
  },
  {
   "cell_type": "code",
   "execution_count": 46,
   "metadata": {},
   "outputs": [
    {
     "data": {
      "text/plain": [
       "[(1, 0.9972333753343349)]"
      ]
     },
     "execution_count": 46,
     "metadata": {},
     "output_type": "execute_result"
    }
   ],
   "source": [
    "sorted(model[corpus[0]],key=lambda x:x[1],reverse=True)"
   ]
  },
  {
   "cell_type": "code",
   "execution_count": 47,
   "metadata": {},
   "outputs": [
    {
     "data": {
      "text/html": [
       "\n",
       "<link rel=\"stylesheet\" type=\"text/css\" href=\"https://cdn.rawgit.com/bmabey/pyLDAvis/files/ldavis.v1.0.0.css\">\n",
       "\n",
       "\n",
       "<div id=\"ldavis_el30205140469604236888250107552\"></div>\n",
       "<script type=\"text/javascript\">\n",
       "\n",
       "var ldavis_el30205140469604236888250107552_data = {\"mdsDat\": {\"x\": [-0.049109269369476946, -0.16716265891730112, 0.11054211435951336, 0.1057298139272646], \"y\": [-0.1071232075709588, 0.0621043080998335, 0.07500341191330032, -0.029984512442174895], \"topics\": [1, 2, 3, 4], \"cluster\": [1, 1, 1, 1], \"Freq\": [26.29150721333865, 26.242944920559204, 24.467606352734673, 22.997941513367458]}, \"tinfo\": {\"Category\": [\"Default\", \"Default\", \"Default\", \"Default\", \"Default\", \"Default\", \"Default\", \"Default\", \"Default\", \"Default\", \"Default\", \"Default\", \"Default\", \"Default\", \"Default\", \"Default\", \"Default\", \"Default\", \"Default\", \"Default\", \"Default\", \"Default\", \"Default\", \"Default\", \"Default\", \"Default\", \"Default\", \"Default\", \"Default\", \"Default\", \"Topic1\", \"Topic1\", \"Topic1\", \"Topic1\", \"Topic1\", \"Topic1\", \"Topic1\", \"Topic1\", \"Topic1\", \"Topic1\", \"Topic1\", \"Topic1\", \"Topic1\", \"Topic1\", \"Topic1\", \"Topic1\", \"Topic1\", \"Topic1\", \"Topic1\", \"Topic1\", \"Topic1\", \"Topic1\", \"Topic1\", \"Topic1\", \"Topic1\", \"Topic1\", \"Topic1\", \"Topic1\", \"Topic1\", \"Topic1\", \"Topic1\", \"Topic1\", \"Topic1\", \"Topic1\", \"Topic1\", \"Topic1\", \"Topic1\", \"Topic1\", \"Topic1\", \"Topic1\", \"Topic1\", \"Topic1\", \"Topic1\", \"Topic1\", \"Topic1\", \"Topic1\", \"Topic1\", \"Topic1\", \"Topic1\", \"Topic1\", \"Topic1\", \"Topic1\", \"Topic1\", \"Topic1\", \"Topic1\", \"Topic1\", \"Topic1\", \"Topic1\", \"Topic1\", \"Topic1\", \"Topic1\", \"Topic1\", \"Topic1\", \"Topic1\", \"Topic1\", \"Topic1\", \"Topic1\", \"Topic1\", \"Topic1\", \"Topic1\", \"Topic1\", \"Topic1\", \"Topic1\", \"Topic1\", \"Topic1\", \"Topic2\", \"Topic2\", \"Topic2\", \"Topic2\", \"Topic2\", \"Topic2\", \"Topic2\", \"Topic2\", \"Topic2\", \"Topic2\", \"Topic2\", \"Topic2\", \"Topic2\", \"Topic2\", \"Topic2\", \"Topic2\", \"Topic2\", \"Topic2\", \"Topic2\", \"Topic2\", \"Topic2\", \"Topic2\", \"Topic2\", \"Topic2\", \"Topic2\", \"Topic2\", \"Topic2\", \"Topic2\", \"Topic2\", \"Topic2\", \"Topic2\", \"Topic2\", \"Topic2\", \"Topic2\", \"Topic2\", \"Topic2\", \"Topic2\", \"Topic2\", \"Topic2\", \"Topic2\", \"Topic2\", \"Topic2\", \"Topic2\", \"Topic2\", \"Topic2\", \"Topic2\", \"Topic2\", \"Topic2\", \"Topic2\", \"Topic2\", \"Topic2\", \"Topic2\", \"Topic2\", \"Topic2\", \"Topic3\", \"Topic3\", \"Topic3\", \"Topic3\", \"Topic3\", \"Topic3\", \"Topic3\", \"Topic3\", \"Topic3\", \"Topic3\", \"Topic3\", \"Topic3\", \"Topic3\", \"Topic3\", \"Topic3\", \"Topic3\", \"Topic3\", \"Topic3\", \"Topic3\", \"Topic3\", \"Topic3\", \"Topic3\", \"Topic3\", \"Topic3\", \"Topic3\", \"Topic3\", \"Topic3\", \"Topic3\", \"Topic3\", \"Topic3\", \"Topic3\", \"Topic3\", \"Topic3\", \"Topic3\", \"Topic3\", \"Topic3\", \"Topic3\", \"Topic3\", \"Topic3\", \"Topic3\", \"Topic3\", \"Topic3\", \"Topic3\", \"Topic3\", \"Topic3\", \"Topic3\", \"Topic3\", \"Topic3\", \"Topic3\", \"Topic3\", \"Topic3\", \"Topic3\", \"Topic3\", \"Topic3\", \"Topic3\", \"Topic3\", \"Topic3\", \"Topic3\", \"Topic3\", \"Topic3\", \"Topic3\", \"Topic3\", \"Topic3\", \"Topic3\", \"Topic3\", \"Topic3\", \"Topic3\", \"Topic3\", \"Topic3\", \"Topic3\", \"Topic3\", \"Topic4\", \"Topic4\", \"Topic4\", \"Topic4\", \"Topic4\", \"Topic4\", \"Topic4\", \"Topic4\", \"Topic4\", \"Topic4\", \"Topic4\", \"Topic4\", \"Topic4\", \"Topic4\", \"Topic4\", \"Topic4\", \"Topic4\", \"Topic4\", \"Topic4\", \"Topic4\", \"Topic4\", \"Topic4\", \"Topic4\", \"Topic4\", \"Topic4\", \"Topic4\", \"Topic4\", \"Topic4\", \"Topic4\", \"Topic4\", \"Topic4\", \"Topic4\", \"Topic4\", \"Topic4\", \"Topic4\", \"Topic4\", \"Topic4\", \"Topic4\", \"Topic4\", \"Topic4\", \"Topic4\", \"Topic4\", \"Topic4\", \"Topic4\", \"Topic4\", \"Topic4\", \"Topic4\", \"Topic4\", \"Topic4\", \"Topic4\", \"Topic4\", \"Topic4\", \"Topic4\", \"Topic4\", \"Topic4\", \"Topic4\", \"Topic4\", \"Topic4\", \"Topic4\", \"Topic4\", \"Topic4\", \"Topic4\", \"Topic4\", \"Topic4\"], \"Freq\": [341.0, 399.0, 236.0, 213.0, 183.0, 152.0, 219.0, 197.0, 219.0, 147.0, 202.0, 216.0, 151.0, 190.0, 106.0, 97.0, 281.0, 87.0, 81.0, 162.0, 74.0, 75.0, 79.0, 161.0, 257.0, 74.0, 70.0, 165.0, 62.0, 69.0, 54.534439416871585, 17.468913841777017, 16.403564758661226, 35.35549687250623, 24.70021267908858, 23.723300713196924, 11.395328088658202, 12.261550111559107, 12.236099362268865, 18.734334493983134, 11.240670028445177, 13.085700347600406, 10.277387837975454, 9.314319858728433, 23.205840312179944, 10.221527557061407, 9.280555177405597, 9.274598480260352, 18.526047617349334, 28.540952629093447, 27.56759170463766, 14.692409911026845, 30.323399307277093, 11.019716539016363, 11.005123093693749, 17.31152868281567, 53.51354301382385, 26.859302467844817, 6.285506434017305, 11.574554389345053, 47.138719292797624, 28.848438568574426, 40.54479370403521, 40.40250625080311, 34.6106238202268, 54.63284337672844, 29.311046612140657, 40.36673236801016, 55.747352372875945, 53.89838898520411, 51.68439603050347, 24.385151326818388, 24.26985741158248, 25.523630262804247, 139.31896164283606, 45.54092178919038, 36.22120986343588, 46.06615845702702, 100.59000428801595, 49.64064847852024, 30.003187090823022, 45.49507017919542, 67.23853744514444, 108.8631918655469, 56.82689122629273, 54.64384489442581, 71.59082900255859, 87.76123476081916, 52.3831347659149, 75.11106989045898, 76.09053810545926, 76.04806808770131, 60.13180731861539, 48.20257981619143, 76.62618914380408, 82.22700850837302, 65.11939593158705, 93.49812460882272, 62.75933815785596, 57.070565635438456, 53.222947653749124, 54.19999514952369, 51.0726418740663, 51.229035005395005, 50.290399870123906, 150.77387121295413, 79.9999304935536, 73.16883881370893, 180.93483515140898, 61.506473015473695, 86.35060853466057, 232.12445971748946, 73.5328366553449, 208.21563183329823, 59.17650030570764, 31.365867129034324, 37.071611690115844, 49.311770003136765, 27.46097196046458, 41.64501726972328, 35.89999187277262, 31.172577589531997, 142.70523402305852, 34.9301497472261, 37.73909118956537, 21.66374800977258, 29.195540814758665, 67.58056260978388, 23.420942967104992, 18.71466981361626, 23.397466438435426, 29.949836735722457, 37.431294805789115, 75.57194965982605, 21.40113371982304, 39.01371990452363, 30.709296576179277, 181.511258332775, 193.92609162550423, 191.59586987905712, 61.312218103538804, 302.15773968820275, 153.66235265093658, 71.58105097620442, 49.697043664514126, 122.20411260545188, 73.83684154303745, 45.78685071455782, 110.35917748015903, 94.59598559455974, 68.2472907897264, 66.94536329047914, 79.23966043295451, 64.27966575573112, 90.38193060619538, 72.06727069516907, 68.15577678217207, 66.0290851897715, 64.89525642807958, 94.66309342017676, 23.957230976291, 102.40862979376092, 23.723765962692937, 22.77687153451386, 17.269440625462654, 38.0721090763682, 21.62378187496993, 20.709996939109683, 32.30118924287956, 28.575624510391915, 28.50023564770128, 9.740014678713017, 9.715200141546593, 10.593941279409409, 11.473689828591217, 11.448938816260215, 9.68330361716748, 63.85326528067636, 21.932760244199656, 68.15376530540428, 8.767380610287262, 7.84286239385586, 7.830641931175824, 7.804754113377184, 15.53695056092884, 25.08346646568035, 7.767022454446715, 19.783348841051815, 7.765085899117569, 9.474002874669978, 26.298525429289512, 25.456574337093084, 34.3921799904542, 24.414565711488752, 35.00996239860364, 68.89456264856165, 23.803861494413635, 19.13342545212309, 36.95794647227559, 21.389902145097853, 78.03917645322963, 81.59891052693214, 116.64666881326622, 112.1388897962117, 31.782661924903962, 46.393453644167025, 76.89657171622657, 31.3690687492306, 131.8738014066048, 75.18930728633195, 71.18778502025614, 86.13530779274924, 127.30958455053154, 56.23988391892686, 66.82024832533085, 73.49105035729777, 70.20175110178246, 63.44242930977351, 53.35353161549987, 71.727669058398, 63.95268643025531, 64.57761633744417, 59.55413615811182, 63.89608545263843, 61.358537933923145, 53.397810198250056, 67.23663999091806, 63.35351670704728, 57.05307965189068, 55.48741257185492, 333.6396559999516, 27.75837059744394, 28.615685987022722, 25.963197678202423, 24.180015921764944, 51.75354133630449, 25.88436176655284, 20.65779254684079, 18.828445981012234, 24.787630853014946, 16.225168581969466, 14.410502229171843, 33.84990651202644, 36.374251932251326, 14.387950092264882, 14.385498255953033, 14.380691365481571, 25.35874455204264, 24.50308896896575, 13.495737228455692, 10.882738856375576, 11.705742151764637, 19.20076130400563, 11.631324683704523, 45.5295373979127, 9.064530158305965, 8.221330447021085, 18.844485912466325, 8.196482642289462, 54.679927032290045, 35.2294352566817, 29.6612459803036, 13.830388766793838, 123.37837615524585, 33.55362306274465, 58.5842167097156, 137.27965419792542, 141.25539265496477, 43.41342165223144, 21.746182604454997, 22.305585939998036, 60.492532669607264, 62.54356684232806, 95.10491004078901, 36.44259108919294, 120.67682226967382, 44.94792349905133, 41.83248072764175, 70.09893298927615, 57.22757279753956, 41.71255886871199, 62.87970596852528, 57.49390207079401, 49.50789276575959, 39.38805955378092, 44.91209942804974, 41.59801618604671, 42.70534548485603, 43.91127497039666, 44.81395682014335, 41.41526218298489, 46.5392069644195, 45.63832415320967, 40.934026568763905], \"Term\": [\"whale\", \"elizabeth\", \"darcy\", \"bingley\", \"bennet\", \"collins\", \"miss\", \"mrs\", \"lady\", \"jane\", \"ship\", \"sea\", \"queequeg\", \"sister\", \"lucy\", \"count\", \"old\", \"mrs_bennet\", \"catherine\", \"captain\", \"lady_catherine\", \"charlotte\", \"wickham\", \"sleep\", \"room\", \"bildad\", \"miss_bingley\", \"door\", \"Lady Catherine\", \"peleg\", \"justine\", \"victim\", \"union\", \"geneva\", \"crime\", \"revenge\", \"remorse\", \"unfortunate\", \"wretchedness\", \"creator\", \"hatred\", \"ernest\", \"threat\", \"sicken\", \"safie\", \"undertaking\", \"enterprise\", \"abhor\", \"innocence\", \"weep\", \"murderer\", \"frankenstein\", \"forever\", \"fulfil\", \"daemon\", \"torture\", \"misery\", \"victor\", \"dungeon\", \"contemplate\", \"clerval\", \"fiend\", \"despair\", \"murder\", \"misfortune\", \"miserable\", \"tale\", \"felix\", \"human\", \"endeavour\", \"month\", \"henry\", \"passion\", \"restore\", \"father\", \"horror\", \"sensation\", \"tear\", \"feeling\", \"scene\", \"reflect\", \"discover\", \"death\", \"life\", \"creature\", \"desire\", \"appear\", \"love\", \"child\", \"return\", \"heart\", \"mind\", \"remain\", \"affection\", \"pass\", \"dear\", \"hope\", \"elizabeth\", \"wish\", \"fear\", \"enter\", \"believe\", \"happy\", \"word\", \"letter\", \"collins\", \"catherine\", \"lady_catherine\", \"bennet\", \"Lady Catherine\", \"mrs_bennet\", \"darcy\", \"charlotte\", \"bingley\", \"lucas\", \"bourgh\", \"lydia\", \"netherfield\", \"rosings\", \"longbourn\", \"young_lady\", \"colonel\", \"jane\", \"miss_bennet\", \"lizzy\", \"ladyship\", \"fitzwilliam\", \"miss_bingley\", \"miss_lucas\", \"mrs_collins\", \"colonel_fitzwilliam\", \"meryton\", \"Miss Bingley\", \"wickham\", \"Mrs .\", \"sir_william\", \"hurst\", \"mrs\", \"miss\", \"lady\", \"dance\", \"elizabeth\", \"sister\", \"daughter\", \"marry\", \"young\", \"family\", \"gentleman\", \"dear\", \"wish\", \"girl\", \"reply\", \"manner\", \"sir\", \"room\", \"mean\", \"hope\", \"walk\", \"believe\", \"count\", \"pier\", \"lucy\", \"diary\", \"later\", \"dracula\", \"jonathan\", \"wolf\", \"whitby\", \"key\", \"driver\", \"captain_peleg\", \"cat\", \"crucifix\", \"renfield\", \"harker\", \"doctor\", \"blaze\", \"peleg\", \"cliff\", \"bildad\", \"bistritz\", \"slovaks\", \"Count ' s\", \"Last night\", \"Captain Peleg\", \"harbour\", \"transylvania\", \"outside\", \"hawkins\", \"shaving\", \"asleep\", \"east\", \"lock\", \"box\", \"mina\", \"don\", \"lamp\", \"moonlight\", \"wall\", \"july\", \"window\", \"bed\", \"door\", \"sleep\", \"dog\", \"jonah\", \"run\", \"august\", \"room\", \"try\", \"lie\", \"captain\", \"old\", \"white\", \"face\", \"sort\", \"open\", \"round\", \"close\", \"fear\", \"write\", \"ask\", \"want\", \"sit\", \"light\", \"fall\", \"sea\", \"ship\", \"morning\", \"head\", \"whale\", \"oil\", \"sperm\", \"sperm_whale\", \"leviathan\", \"mast\", \"mast_head\", \"whale_ship\", \"fishery\", \"van_helsing\", \"fin\", \"spout\", \"whaleman\", \"starbuck\", \"New Bedford\", \"new_bedford\", \"bedford\", \"van\", \"helsing\", \"famous\", \"octavo\", \"tashtego\", \"Van Helsing\", \"pacific\", \"nantucket\", \"milk\", \"royal\", \"indian\", \"aloft\", \"whaling\", \"ocean\", \"island\", \"pagan\", \"queequeg\", \"flask\", \"voyage\", \"ship\", \"sea\", \"fish\", \"professor\", \"jaw\", \"water\", \"ahab\", \"head\", \"wood\", \"old\", \"harpooneer\", \"deck\", \"captain\", \"chapter\", \"boat\", \"world\", \"stand\", \"god\", \"land\", \"new\", \"small\", \"high\", \"round\", \"light\", \"form\", \"life\", \"young\", \"sort\"], \"Total\": [341.0, 399.0, 236.0, 213.0, 183.0, 152.0, 219.0, 197.0, 219.0, 147.0, 202.0, 216.0, 151.0, 190.0, 106.0, 97.0, 281.0, 87.0, 81.0, 162.0, 74.0, 75.0, 79.0, 161.0, 257.0, 74.0, 70.0, 165.0, 62.0, 69.0, 55.86804329936921, 18.250645993481648, 17.22976326993012, 37.41889595231109, 26.311708999648303, 25.286657152031196, 12.14874592691558, 13.147346327449688, 13.154501331555421, 20.191786194248916, 12.12945753588485, 14.141104105823343, 11.118370506155642, 10.107473623129465, 25.203054241446175, 11.111859414112788, 10.103432941232985, 10.103007126963561, 20.225360128149116, 31.236146627686388, 30.230248081278756, 16.12282100443377, 33.302825885429165, 12.10300825370412, 12.100307547306262, 19.12435061882828, 59.525069416911194, 30.126053974215075, 7.056939110920275, 13.066809586906245, 54.03440071805398, 33.195872461482075, 47.1823818630139, 47.3273247895305, 40.35487215096452, 66.08281217124396, 34.080198569004565, 48.72171997053231, 70.66876119704203, 70.30402810192432, 67.10158370542212, 28.919040042202365, 29.110003411918026, 30.893224888521168, 227.6586995984549, 61.62494907605242, 47.48783768338249, 64.27492582914026, 171.75093480198368, 73.1166939777133, 37.91991863435332, 65.91379127691516, 114.55803560398905, 222.73615823817036, 91.17920871355057, 88.05761729568076, 135.52064489409503, 186.2435305996246, 85.65437536587086, 159.49184751243115, 163.6640031368721, 173.04873677161038, 117.12360169457276, 79.69865984187226, 192.21776451213725, 243.8246063654934, 154.06000074957672, 399.0057158252414, 192.70597003463473, 151.12545007151542, 123.16363675540438, 137.98611582653947, 121.11733318701827, 170.64873143912303, 159.97659238205364, 152.3361697230601, 81.03603733438945, 74.19487411053285, 183.6229036978918, 62.47731969232186, 87.89357973848495, 236.39213307756074, 75.20491775382617, 213.00456059049364, 60.54948569824729, 32.20934736059406, 38.07537811215856, 50.78546004183086, 28.30217231313321, 42.97015850539007, 37.08428134601773, 32.212971925176625, 147.5952458513653, 36.127774669517244, 39.06438744216545, 22.442501575629176, 30.25738613833361, 70.3687534991153, 24.405852092570118, 19.51306584186292, 24.399606685467596, 31.252437772844242, 39.07558378798904, 79.1873048156537, 22.426543610389654, 40.91911928209914, 32.23699982239184, 197.9430647022055, 219.30719086138345, 219.59952178961268, 66.49010876013139, 399.0057158252414, 190.1539693380408, 90.29054313694863, 58.715999409769914, 223.5093948053824, 116.76868692121596, 55.16185669660006, 243.8246063654934, 192.70597003463473, 113.10335006679941, 112.75327674173023, 156.67413935638854, 113.871839096446, 257.8761339698995, 172.31916540083114, 154.06000074957672, 132.33428333052538, 137.98611582653947, 97.40075060463332, 24.81907774576512, 106.78186046779115, 24.820627158830135, 23.85172131271902, 18.137260588737494, 40.11960855771795, 22.91530022537883, 21.962251334796004, 34.29539082602927, 30.489857316003494, 30.46569582442804, 10.505060252529764, 10.502062791241535, 11.464840299093867, 12.419383147226666, 12.407442782795828, 10.501203942011742, 69.35049858322397, 23.821841064850062, 74.0882969185422, 9.550716144639477, 8.596051398585384, 8.595855126117934, 8.597161828734379, 17.127605589425908, 27.75677975788054, 8.595358047912871, 21.894011411574688, 8.598558608756987, 10.495487713516237, 29.44967103825472, 28.636919373670956, 38.954280531686315, 27.524616236573873, 40.1888210546459, 81.51835220694593, 27.496741655851196, 21.85180498979115, 44.88474218002954, 24.764440763155065, 103.14894502425511, 109.41311521309123, 165.536172255369, 161.30318889605292, 38.766224422820464, 60.17662685819559, 114.70066170397739, 39.18763809539436, 257.8761339698995, 127.22337795685979, 118.65265523662738, 162.19062753066567, 281.36084843727076, 92.33521841656571, 124.30077277581574, 145.76688361444144, 138.98586318658283, 121.54017212521103, 92.08225276639095, 151.12545007151542, 129.52430709168058, 139.59400110622371, 128.3441662776571, 151.42537562077763, 139.842190633726, 103.23713684750346, 216.53052597788246, 202.0998100205478, 145.8627749269918, 183.45513893044105, 341.6490833350021, 28.572316001752455, 29.46548197979247, 26.792316570157496, 25.011113480233657, 53.58676114394228, 26.80360576475511, 21.446760453312905, 19.669687254843645, 25.92435799347963, 16.99186393062701, 15.21448035368828, 35.77443832226275, 38.459451952661965, 15.215283515556678, 15.215586452434637, 15.215927699549788, 26.837325715023404, 25.944830563209926, 14.327243967280294, 11.648334883609595, 12.546565342430474, 20.5975535579292, 12.550990692352984, 49.25409590434499, 9.872977835946989, 8.97608259801211, 20.624706944626784, 8.97843895604912, 60.0486660632734, 39.57812150489112, 33.34572017600333, 15.262167021886961, 151.55498409250168, 38.65972386395769, 76.3387105051575, 202.0998100205478, 216.53052597788246, 56.36536709296517, 25.275507382500038, 26.107219402535794, 92.6633818838327, 101.4934241915715, 183.45513893044105, 50.36760382287008, 281.36084843727076, 73.17651652511, 66.74503392742707, 162.19062753066567, 123.82818184936161, 69.08083438807707, 156.23219777816723, 137.048977828747, 123.67827611724876, 75.21093459023001, 112.99997695924979, 91.54614304863784, 104.15621070762592, 121.54017212521103, 139.842190633726, 99.66118021923337, 222.73615823817036, 223.5093948053824, 145.76688361444144], \"loglift\": [30.0, 29.0, 28.0, 27.0, 26.0, 25.0, 24.0, 23.0, 22.0, 21.0, 20.0, 19.0, 18.0, 17.0, 16.0, 15.0, 14.0, 13.0, 12.0, 11.0, 10.0, 9.0, 8.0, 7.0, 6.0, 5.0, 4.0, 3.0, 2.0, 1.0, 1.3118, 1.2921, 1.2868, 1.2792, 1.2727, 1.2721, 1.2719, 1.2662, 1.2636, 1.261, 1.2598, 1.2584, 1.2573, 1.2542, 1.2534, 1.2524, 1.251, 1.2504, 1.2482, 1.2457, 1.2437, 1.243, 1.2422, 1.2422, 1.2411, 1.2363, 1.2295, 1.2211, 1.2202, 1.2147, 1.1994, 1.1956, 1.1843, 1.1777, 1.1824, 1.1457, 1.1852, 1.1478, 1.0988, 1.0702, 1.0749, 1.1654, 1.1541, 1.145, 0.8448, 1.0335, 1.0651, 1.0028, 0.8009, 0.9487, 1.1018, 0.9652, 0.8031, 0.62, 0.8631, 0.8588, 0.6978, 0.5835, 0.8442, 0.5829, 0.57, 0.5137, 0.6692, 0.8331, 0.4162, 0.249, 0.4748, -0.1151, 0.2141, 0.3621, 0.4969, 0.4015, 0.4724, 0.1326, 0.1787, 1.3275, 1.3249, 1.3238, 1.323, 1.3221, 1.3201, 1.3196, 1.3153, 1.315, 1.3148, 1.3112, 1.3111, 1.3083, 1.3076, 1.3064, 1.3053, 1.3049, 1.3041, 1.3041, 1.3033, 1.3025, 1.302, 1.2973, 1.2966, 1.296, 1.2958, 1.2952, 1.2948, 1.291, 1.291, 1.2901, 1.2892, 1.2511, 1.2148, 1.2014, 1.2567, 1.0597, 1.1247, 1.1056, 1.171, 0.734, 0.8794, 1.1515, 0.5451, 0.6262, 0.8326, 0.8164, 0.6561, 0.7659, 0.2893, 0.466, 0.5222, 0.6425, 0.5834, 1.3793, 1.3725, 1.366, 1.3626, 1.3617, 1.3588, 1.3554, 1.3498, 1.3491, 1.3479, 1.343, 1.3411, 1.3322, 1.3299, 1.3288, 1.3286, 1.3274, 1.3267, 1.3252, 1.3252, 1.3243, 1.3222, 1.3161, 1.3146, 1.3111, 1.3103, 1.3065, 1.3065, 1.3064, 1.3059, 1.3054, 1.2947, 1.2901, 1.2833, 1.2879, 1.2699, 1.2396, 1.2636, 1.275, 1.2135, 1.2613, 1.1289, 1.1145, 1.0578, 1.0443, 1.2092, 1.1477, 1.008, 1.1853, 0.7372, 0.8819, 0.8969, 0.775, 0.6148, 0.912, 0.7871, 0.723, 0.7248, 0.7577, 0.8621, 0.6626, 0.7021, 0.6369, 0.64, 0.545, 0.584, 0.7486, 0.2383, 0.2478, 0.4691, 0.212, 1.446, 1.4409, 1.4405, 1.4383, 1.436, 1.435, 1.4349, 1.4323, 1.4261, 1.4249, 1.4236, 1.4155, 1.4145, 1.414, 1.4139, 1.4137, 1.4133, 1.4131, 1.4126, 1.41, 1.4018, 1.4004, 1.3995, 1.3937, 1.3911, 1.3843, 1.3819, 1.3795, 1.3786, 1.3761, 1.3534, 1.3527, 1.3713, 1.2641, 1.3281, 1.2051, 1.083, 1.0426, 1.2087, 1.3194, 1.3124, 1.0433, 0.9856, 0.8128, 1.1462, 0.6232, 0.9824, 1.0026, 0.6309, 0.6979, 0.9653, 0.5596, 0.6011, 0.5542, 0.8229, 0.5471, 0.681, 0.5782, 0.4517, 0.3318, 0.5916, -0.0959, -0.1189, 0.1997], \"logprob\": [30.0, 29.0, 28.0, 27.0, 26.0, 25.0, 24.0, 23.0, 22.0, 21.0, 20.0, 19.0, 18.0, 17.0, 16.0, 15.0, 14.0, 13.0, 12.0, 11.0, 10.0, 9.0, 8.0, 7.0, 6.0, 5.0, 4.0, 3.0, 2.0, 1.0, -5.876, -7.0144, -7.0773, -6.3093, -6.668, -6.7083, -7.4416, -7.3683, -7.3704, -6.9444, -7.4552, -7.3033, -7.5448, -7.6432, -6.7304, -7.5503, -7.6469, -7.6475, -6.9556, -6.5234, -6.5581, -7.1875, -6.4629, -7.4751, -7.4764, -7.0234, -5.8949, -6.5842, -8.0365, -7.426, -6.0217, -6.5127, -6.1724, -6.1759, -6.3306, -5.8742, -6.4968, -6.1768, -5.854, -5.8877, -5.9296, -6.6808, -6.6856, -6.6352, -4.938, -6.0562, -6.2851, -6.0447, -5.2637, -5.97, -6.4735, -6.0572, -5.6665, -5.1847, -5.8348, -5.874, -5.6038, -5.4002, -5.9162, -5.5558, -5.5429, -5.5434, -5.7782, -5.9994, -5.5358, -5.4653, -5.6986, -5.3368, -5.7355, -5.8305, -5.9003, -5.8821, -5.9415, -5.9385, -5.957, -4.8572, -5.4909, -5.5802, -4.6748, -5.7538, -5.4145, -4.4257, -5.5752, -4.5344, -5.7924, -6.4272, -6.2601, -5.9748, -6.5602, -6.1438, -6.2922, -6.4334, -4.9122, -6.3196, -6.2422, -6.7973, -6.4989, -5.6596, -6.7193, -6.9436, -6.7203, -6.4734, -6.2504, -5.5479, -6.8095, -6.209, -6.4484, -4.6716, -4.6055, -4.6176, -5.757, -4.162, -4.8382, -5.6021, -5.967, -5.0672, -5.5711, -6.0489, -5.1692, -5.3233, -5.6498, -5.6691, -5.5005, -5.7097, -5.3689, -5.5953, -5.6511, -5.6828, -5.7002, -5.2526, -6.6266, -5.1739, -6.6364, -6.6771, -6.954, -6.1634, -6.7291, -6.7723, -6.3278, -6.4503, -6.453, -7.5266, -7.5292, -7.4426, -7.3628, -7.365, -7.5325, -5.6463, -6.7149, -5.5811, -7.6319, -7.7433, -7.7448, -7.7482, -7.0597, -6.5807, -7.753, -6.8181, -7.7533, -7.5543, -6.5334, -6.5659, -6.2651, -6.6077, -6.2473, -5.5703, -6.633, -6.8515, -6.1931, -6.74, -5.4457, -5.4011, -5.0437, -5.0832, -6.344, -5.9657, -5.4604, -6.3571, -4.921, -5.4829, -5.5376, -5.347, -4.9563, -5.7733, -5.6009, -5.5057, -5.5515, -5.6528, -5.826, -5.53, -5.6447, -5.635, -5.716, -5.6456, -5.6862, -5.8251, -5.5947, -5.6542, -5.7589, -5.7867, -3.9309, -6.4174, -6.387, -6.4843, -6.5554, -5.7945, -6.4873, -6.7129, -6.8056, -6.5306, -6.9544, -7.073, -6.219, -6.1471, -7.0746, -7.0747, -7.0751, -6.5078, -6.5421, -7.1386, -7.3538, -7.2809, -6.786, -7.2872, -5.9226, -7.5366, -7.6342, -6.8047, -7.6372, -5.7394, -6.1791, -6.3511, -7.1141, -4.9257, -6.2278, -5.6705, -4.8189, -4.7904, -5.9702, -6.6615, -6.6361, -5.6384, -5.6051, -5.186, -6.1452, -4.9478, -5.9354, -6.0073, -5.491, -5.6939, -6.0101, -5.5997, -5.6893, -5.8388, -6.0675, -5.9362, -6.0129, -5.9866, -5.9588, -5.9384, -6.0173, -5.9007, -5.9202, -6.029]}, \"token.table\": {\"Topic\": [3, 4, 3, 2, 3, 1, 2, 2, 4, 3, 4, 1, 1, 2, 4, 2, 3, 4, 4, 1, 2, 3, 4, 1, 2, 3, 4, 3, 4, 1, 2, 3, 4, 1, 2, 3, 4, 4, 1, 2, 3, 4, 1, 2, 3, 4, 1, 2, 3, 3, 1, 3, 4, 2, 3, 4, 1, 2, 3, 4, 3, 4, 3, 2, 1, 2, 3, 4, 1, 2, 1, 2, 3, 4, 1, 4, 3, 4, 1, 2, 3, 4, 1, 2, 2, 2, 1, 4, 1, 2, 3, 4, 1, 4, 1, 2, 3, 4, 1, 3, 4, 3, 1, 4, 1, 2, 3, 1, 2, 4, 1, 2, 3, 4, 1, 2, 3, 4, 1, 2, 3, 4, 1, 3, 4, 1, 2, 3, 4, 1, 3, 4, 3, 1, 2, 3, 4, 3, 1, 3, 4, 2, 3, 4, 1, 2, 3, 4, 3, 3, 4, 1, 1, 3, 4, 1, 2, 3, 4, 1, 2, 4, 1, 2, 3, 4, 1, 1, 4, 1, 2, 3, 4, 1, 2, 3, 4, 1, 2, 3, 4, 4, 1, 2, 3, 4, 1, 2, 3, 4, 1, 2, 3, 4, 1, 4, 1, 3, 4, 4, 1, 2, 3, 4, 4, 2, 3, 4, 1, 2, 4, 1, 2, 3, 4, 1, 4, 1, 4, 1, 4, 1, 2, 4, 1, 2, 3, 4, 1, 2, 3, 4, 1, 2, 3, 4, 1, 3, 4, 3, 2, 3, 4, 1, 3, 1, 2, 3, 4, 1, 2, 3, 4, 3, 4, 1, 4, 1, 2, 3, 4, 1, 2, 3, 4, 1, 3, 4, 1, 2, 3, 4, 1, 2, 3, 4, 1, 3, 1, 3, 4, 1, 2, 3, 4, 3, 4, 2, 3, 1, 3, 4, 1, 2, 3, 4, 1, 2, 3, 4, 2, 2, 3, 4, 1, 3, 4, 3, 1, 2, 3, 4, 4, 1, 2, 3, 4, 1, 2, 3, 4, 1, 2, 3, 4, 1, 2, 1, 3, 4, 1, 2, 1, 2, 3, 4, 1, 2, 1, 2, 3, 4, 2, 1, 2, 3, 4, 1, 2, 3, 4, 3, 4, 4, 1, 2, 3, 4, 1, 2, 4, 2, 3, 1, 2, 3, 4, 1, 2, 3, 4, 1, 2, 3, 4, 1, 2, 4, 1, 2, 3, 4, 1, 2, 1, 2, 2, 1, 2, 3, 4, 1, 3, 4, 1, 2, 3, 4, 1, 2, 3, 4, 1, 2, 2, 1, 3, 4, 1, 3, 4, 3, 4, 1, 2, 1, 2, 3, 4, 4, 1, 3, 4, 4, 4, 1, 2, 3, 4, 1, 2, 3, 4, 1, 3, 4, 4, 3, 4, 1, 2, 3, 4, 1, 3, 4, 3, 4, 3, 1, 2, 4, 1, 2, 3, 4, 1, 2, 4, 1, 2, 3, 4, 1, 3, 1, 2, 3, 4, 1, 2, 3, 4, 1, 2, 3, 4, 1, 4, 1, 2, 3, 4, 2, 1, 2, 3, 4, 4, 1, 2, 3, 4, 1, 4, 1, 2, 3, 4, 1, 2, 3, 4, 1, 2, 3, 4, 3, 1, 2, 3, 4, 1, 1, 2, 3, 4, 2, 4, 1, 2, 3, 4, 1, 2, 3, 4, 1, 2, 3, 4, 3, 1, 2, 3, 4, 1, 2, 3, 4, 4, 4, 4, 1, 2, 3, 4, 3, 4, 1, 3, 4, 4, 1, 2, 3, 4, 1, 1, 4, 3, 1, 2, 3, 4, 1, 1, 1, 3, 4, 3, 4, 1, 1, 4, 1, 3, 4, 1, 2, 3, 4, 1, 3, 4, 1, 2, 3, 4, 1, 3, 4, 1, 3, 4, 1, 3, 4, 4, 3, 4, 3, 4, 2, 3, 1, 2, 3, 4, 1, 2, 1, 2, 3, 4, 1, 2, 3, 4, 1, 3, 1, 3, 4, 1, 2, 3, 4, 1, 2, 3, 4, 1, 1, 2, 3, 4, 1, 2, 3, 4, 2], \"Freq\": [0.9341644350964002, 0.058385277193525015, 0.9306811111430359, 0.9923601125228725, 0.9305396547569363, 0.025591428279758105, 0.9468828463510498, 0.9363903936704374, 0.9201274485411904, 0.04854945502083871, 0.9224396453959355, 0.8908238791577426, 0.6022685964260299, 0.33877608548964183, 0.05018904970216916, 0.009852855078694298, 0.3744084929903833, 0.6207298699577407, 0.8910234885107831, 0.531284366719666, 0.25088428428428666, 0.08116844491550451, 0.14757899075546274, 0.1074544742691757, 0.3438543176613622, 0.46563605516642803, 0.08596357941534055, 0.8828621537478757, 0.0679124733652212, 0.10207300552951956, 0.02551825138237989, 0.7910657928537765, 0.07655475414713966, 0.09139672132106065, 0.036558688528424255, 0.7494531148326973, 0.1279554098494849, 0.9200884938756797, 0.39134372089930186, 0.47106188626767814, 0.08696527131095597, 0.05072974159805765, 0.010891887448259334, 0.9857158140674698, 0.9178237701261227, 0.06748704192103844, 0.018778940642919358, 0.9765049134318067, 0.9423377120313039, 0.9522717638111383, 0.11580636034385756, 0.2750401058166617, 0.6079833918052522, 0.9624535279446981, 0.871946761899246, 0.0726622301582705, 0.01233116876387852, 0.02466233752775704, 0.5302402568467763, 0.4315909067357482, 0.9518902889047814, 0.03282380306568212, 0.9519221936487096, 0.9872151036937515, 0.15343841536100172, 0.27457400643547675, 0.1049841789312117, 0.4603152460830051, 0.013297002774118764, 0.9839782052847885, 0.6070909953856192, 0.1517727488464048, 0.09339861467471064, 0.1517727488464048, 0.8698162536351838, 0.11104037280449156, 0.9235222391128177, 0.04197828359603717, 0.16289783915315809, 0.14117812726607035, 0.5755723650078253, 0.11945841537898261, 0.006564429195101547, 0.9912288084603336, 0.9623452338395203, 0.9426381456262899, 0.9183573021546702, 0.07652977517955585, 0.010266861331070999, 0.010266861331070999, 0.9753518264517449, 0.010266861331070999, 0.9409766831530554, 0.04952508858700291, 0.6251425166352531, 0.1206415382980313, 0.0438696502901932, 0.2083808388784177, 0.9501473279570766, 0.03800589311828306, 0.03800589311828306, 0.9521938878845551, 0.9090678031938776, 0.08264252756307978, 0.06015932406473169, 0.9174296919871583, 0.015039831016182923, 0.012690777653821896, 0.9814201385622268, 0.004230259217940633, 0.17720571218330053, 0.7974257048248524, 0.011075357011456283, 0.022150714022912566, 0.33630732034108934, 0.4511439663112174, 0.18455889530913439, 0.02870916149253202, 0.5848563974299414, 0.034916799846563665, 0.209500799079382, 0.1658547992711774, 0.014982388069310381, 0.35957731366344914, 0.629260298911036, 0.6245910540063836, 0.1930554166928822, 0.09084960785547398, 0.10220580883740824, 0.8689684238289749, 0.08477740720282681, 0.06358305540212011, 0.9669376944595781, 0.6827099325988891, 0.07585665917765436, 0.03034266367106174, 0.2123986456974322, 0.8865646364497132, 0.0257956511083739, 0.8254608354679648, 0.1547739066502434, 0.036801528965944665, 0.8464351662167273, 0.110404586897834, 0.09061463603773459, 0.12686049045282843, 0.7067941610943298, 0.07853268456603664, 0.9372970034160679, 0.9511359695599002, 0.03279779205378966, 0.8502269759866977, 0.06983991447902801, 0.8729989309878502, 0.03491995723951401, 0.23307936781720848, 0.7568813879655587, 0.0025062297614753598, 0.00751868928442608, 0.7680925468696145, 0.19913510474397414, 0.02844787210628202, 0.43032181734983055, 0.19486270974331948, 0.16238559145276624, 0.21110126888859612, 0.8907863349367343, 0.9193058690973477, 0.07071583608441136, 0.1448100409839296, 0.08045002276884979, 0.5390151525512935, 0.2333050660296644, 0.2712202299968871, 0.09686436785603111, 0.5133811496369649, 0.11623724142723733, 0.28261001189698365, 0.6337315418295997, 0.0171278795089081, 0.0685115180356324, 0.9073622274939008, 0.6105630939874849, 0.2415897134482854, 0.03514032195611424, 0.10981350611285699, 0.37717009261528434, 0.08602124919295959, 0.47642538014562236, 0.059553172518202795, 0.5880608458780481, 0.2678296921820813, 0.09315815380246306, 0.05240146151388547, 0.8209890788788378, 0.16419781577576756, 0.8736025851903534, 0.09037268122658829, 0.030124227075529426, 0.9416271260953766, 0.053224172124205375, 0.07096556283227384, 0.08870695354034229, 0.7628798004469437, 0.9659533348869727, 0.9584436628932528, 0.10346685387810503, 0.8794682579638927, 0.9008244556545505, 0.03002748185515168, 0.03002748185515168, 0.33112190651773366, 0.17057795184246885, 0.09030597450483645, 0.41139388385536607, 0.9303582788567215, 0.06202388525711476, 0.9088649507145015, 0.08262408642859105, 0.9353562981817027, 0.026724465662334364, 0.05438540650472534, 0.8339095664057885, 0.10877081300945068, 0.20335383511112698, 0.6012200342415929, 0.11493912419324569, 0.07957323982609317, 0.15362439222541985, 0.016170988655307354, 0.4285311993656449, 0.4042747163826838, 0.42107928450877036, 0.37154054515479734, 0.15687267462091445, 0.04953873935397298, 0.07205446804153036, 0.9006808505191294, 0.03602723402076518, 0.8857122668331862, 0.013665586276669197, 0.3689708294700683, 0.6149513824501139, 0.906883095757303, 0.9303884946312514, 0.07631293449516423, 0.10356755395772288, 0.2998008140881452, 0.5178377697886144, 0.46436600928330735, 0.10998142325130963, 0.2688434790587569, 0.15275197673793006, 0.03854332359441236, 0.9635830898603089, 0.829903066110636, 0.138317177685106, 0.1248125283329666, 0.19201927435841018, 0.26882698410177425, 0.41284143987058186, 0.42191353812633675, 0.44138647065524456, 0.09736466264453925, 0.0389458650578157, 0.746450921090914, 0.16227193936759002, 0.08113596968379501, 0.7924293429151548, 0.04245157194188329, 0.04245157194188329, 0.12735471582564986, 0.03102025639822101, 0.9616279483448513, 0.04848553740350348, 0.9212252106665663, 0.9394146694849852, 0.04944287734131501, 0.059977711965545286, 0.029988855982772643, 0.8996656794831793, 0.02710114392185891, 0.968865895206456, 0.11491074379635428, 0.8426787878399313, 0.7644163922380963, 0.21603071954554895, 0.024925467519488705, 0.9471677657405708, 0.04038047980020676, 0.8479900758043419, 0.08076095960041352, 0.9844626149743997, 0.01789932027226181, 0.9330699907263593, 0.02915843721019873, 0.06375241569702825, 0.8743188438449588, 0.04553743978359161, 0.022768719891795804, 0.983895462795007, 0.9802828764815729, 0.8728306902826393, 0.10910383628532991, 0.15955126824815197, 0.31910253649630393, 0.5185416218064939, 0.9642909917673389, 0.3125457246932149, 0.293792981211622, 0.3250475536809435, 0.06250914493864299, 0.9595734319852356, 0.21912699676335562, 0.02528388424192565, 0.5983852603922404, 0.16013126686552911, 0.48936823218189385, 0.14815735469727062, 0.15264697150627882, 0.21101199002338542, 0.18592386090474708, 0.0500564240897396, 0.43620598135344507, 0.32179129771975457, 0.025598763105667357, 0.9727529980153595, 0.025671119742195644, 0.8728180712346519, 0.07701335922658693, 0.02327196442327674, 0.977422505777623, 0.47249963376809706, 0.32752815522561274, 0.1288635364822083, 0.07517039628128817, 0.01651541691012161, 0.9744095976971752, 0.009364886466851102, 0.009364886466851102, 0.9552184196188124, 0.028094659400553307, 0.9717566005781788, 0.2744549941467199, 0.5042312683160669, 0.08935743995474603, 0.13403615993211904, 0.10218679849297846, 0.8515566541081537, 0.03406226616432615, 0.017031133082163075, 0.01866132564559829, 0.970388933571111, 0.9700187440522725, 0.19150510579156294, 0.4178293217270464, 0.21471784588750997, 0.17989873574358944, 0.0319975039153239, 0.9599251174597169, 0.9115790746770926, 0.099530165230801, 0.8708889457695087, 0.4391826338513222, 0.13868925279515437, 0.2542636301244497, 0.1675828471274782, 0.8322890354223355, 0.06053011166707894, 0.03026505583353947, 0.07566263958384867, 0.9071807984260576, 0.03359928883059472, 0.03359928883059472, 0.03359928883059472, 0.8673054363564244, 0.09912062129787708, 0.02478015532446927, 0.027358884022149525, 0.884603916716168, 0.07751683806275698, 0.013679442011074763, 0.027679534904864998, 0.9687837216702748, 0.02842170566550031, 0.9663379926270105, 0.9423969264732985, 0.7749444518073001, 0.1341250012743404, 0.044708333758113464, 0.05961111167748462, 0.04576281000435367, 0.8694933900827198, 0.09152562000870734, 0.18510548708204833, 0.26051883367103096, 0.39077825050654647, 0.1645382107395985, 0.025259788755530414, 0.9194563107013071, 0.045467619759954746, 0.015155873253318249, 0.011377395288431307, 0.9784559948050924, 0.9737065489338841, 0.8451777102949328, 0.12677665654423992, 0.02112944275737332, 0.9262246186242871, 0.03307945066515311, 0.06615890133030622, 0.06090864008195818, 0.9339324812566921, 0.019690675228231116, 0.9648430861833246, 0.19469030518416539, 0.1327433898982946, 0.27433633912314215, 0.3982301696948838, 0.9201091291331638, 0.05053296932631927, 0.05053296932631927, 0.8843269632105871, 0.9443409817722644, 0.9799695620852943, 0.09240802387542091, 0.02487908335107486, 0.45137765508378674, 0.43005272649715115, 0.1582894799197376, 0.12231459811979724, 0.5036483451991651, 0.2086543144396541, 0.04567459024303472, 0.9134918048606944, 0.04567459024303472, 0.9560998246386486, 0.06552149498599599, 0.917300929803944, 0.4005873244620841, 0.22370460976454049, 0.27052650483153734, 0.1092510884896593, 0.8244588521818612, 0.10305735652273265, 0.03435245217424422, 0.9228484482082979, 0.07209753501627328, 0.966998058745157, 0.03956399311265136, 0.07912798622530272, 0.8704078484783299, 0.006598265348961729, 0.006598265348961729, 0.1781531644219667, 0.8115866379222927, 0.7911409380721002, 0.10548545840961336, 0.10548545840961336, 0.5122793282643755, 0.15368379847931266, 0.1451458096749064, 0.18783575369693767, 0.9054432503711737, 0.9594551439909192, 0.2749365774176817, 0.5942177640962797, 0.07982029666964952, 0.05321353111309968, 0.8416084786817022, 0.03236955687237316, 0.03236955687237316, 0.12947822748949264, 0.47024347118528637, 0.36365495104995477, 0.06896904244050867, 0.09404869423705726, 0.9491171512194982, 0.03954654796747909, 0.10470143004063945, 0.3490047668021315, 0.5118736579764596, 0.03490047668021315, 0.9539903757659989, 0.05759412610333133, 0.05759412610333133, 0.518347134929982, 0.3620202212209398, 0.8912573957119915, 0.052310073114355385, 0.10462014622871077, 0.6713126049675607, 0.17436691038118463, 0.9125878070038324, 0.039677730739297055, 0.6838383586550084, 0.10941413738480135, 0.06838383586550084, 0.15044443890410186, 0.03232800533960286, 0.0046182864770861224, 0.30942519396477025, 0.6511783932691433, 0.7580888445589838, 0.02105802345997177, 0.04211604691994354, 0.16846418767977417, 0.8575113654232259, 0.004948050173319452, 0.004948050173319452, 0.3117271609191255, 0.677882873744765, 0.8904302237707379, 0.04390901244481659, 0.5620353592936524, 0.20198145724615632, 0.18441785226822968, 0.9530996923743983, 0.024438453650625597, 0.14724909554858567, 0.8098700255172212, 0.026294481347961727, 0.015776688808777035, 0.0792469554776091, 0.23774086643282732, 0.4226504292139152, 0.25755260530222956, 0.10539159279086013, 0.02479802183314356, 0.6943446113280197, 0.1797856582902908, 0.9306598610283469, 0.09831107789236256, 0.2184690619830279, 0.22939251508217928, 0.45878503016435856, 0.0068602687743879835, 0.2058080632316395, 0.5007996205303228, 0.2812710197499073, 0.9842024651043652, 0.9704274705741566, 0.9201760214311975, 0.051076630492983506, 0.13863656848095524, 0.38672305944687513, 0.4159097054428657, 0.02600141055652212, 0.9360507800347962, 0.8509340091220909, 0.05868510407738558, 0.08802765611607836, 0.9564370544835822, 0.7156756605566557, 0.03111633306768068, 0.09334899920304204, 0.14002349880456305, 0.8994123729249299, 0.8889190717546865, 0.05228935716204038, 0.9307349333681991, 0.1572038120759677, 0.18864457449116126, 0.589514295284879, 0.06288152483038709, 0.8999393915386786, 0.9127317179548088, 0.9286256432741395, 0.03726153680954153, 0.9315384202385383, 0.03857376141200932, 0.964344035300233, 0.9314738780244641, 0.8962342038923959, 0.09958157821026623, 0.07859708344948578, 0.15719416689897156, 0.7728713205866101, 0.2191420036451779, 0.4987369738131635, 0.19647214119912504, 0.08312282896886058, 0.08911714328125762, 0.824333575351633, 0.06683785746094321, 0.1012901511384325, 0.3817859542910148, 0.4674930052543038, 0.054540850613002116, 0.10791749444820052, 0.23741848778604113, 0.6475049666892031, 0.9284115721974373, 0.03201419214473922, 0.06402838428947843, 0.0029269799006586402, 0.02048885930461048, 0.9776112868199859, 0.9791688607570617, 0.0279529196515069, 0.9503992681512345, 0.08326579635809878, 0.9159237599390866, 0.045532672618842356, 0.9561861249956894, 0.010830103801656159, 0.032490311404968476, 0.6064858128927448, 0.3465633216529971, 0.037884860546572884, 0.9597498005131797, 0.06786303047844042, 0.09694718639777203, 0.7561880539026218, 0.07755774911821763, 0.32692292817226737, 0.4929790186724667, 0.15567758484393684, 0.03113551696878737, 0.04363896567641275, 0.9600572448810805, 0.15883225313107893, 0.1191241898483092, 0.7147451390898553, 0.29885953191626075, 0.22853964205361119, 0.28127955945059835, 0.19337969712228636, 0.27523135827004963, 0.16641896081444862, 0.15361750229026028, 0.4032459435119332, 0.9122352643816328, 0.16213173010943552, 0.2856606673356721, 0.4941157489049463, 0.0540439100364785, 0.11632620643368985, 0.5458383532657755, 0.12974846102219253, 0.20580790369037436, 0.9707616999261557], \"Term\": [\"Captain Peleg\", \"Captain Peleg\", \"Count ' s\", \"Lady Catherine\", \"Last night\", \"Miss Bingley\", \"Miss Bingley\", \"Mrs .\", \"New Bedford\", \"Van Helsing\", \"Van Helsing\", \"abhor\", \"affection\", \"affection\", \"affection\", \"ahab\", \"ahab\", \"ahab\", \"aloft\", \"appear\", \"appear\", \"appear\", \"appear\", \"ask\", \"ask\", \"ask\", \"ask\", \"asleep\", \"asleep\", \"august\", \"august\", \"august\", \"august\", \"bed\", \"bed\", \"bed\", \"bed\", \"bedford\", \"believe\", \"believe\", \"believe\", \"believe\", \"bennet\", \"bennet\", \"bildad\", \"bildad\", \"bingley\", \"bingley\", \"bistritz\", \"blaze\", \"boat\", \"boat\", \"boat\", \"bourgh\", \"box\", \"box\", \"captain\", \"captain\", \"captain\", \"captain\", \"captain_peleg\", \"captain_peleg\", \"cat\", \"catherine\", \"chapter\", \"chapter\", \"chapter\", \"chapter\", \"charlotte\", \"charlotte\", \"child\", \"child\", \"child\", \"child\", \"clerval\", \"clerval\", \"cliff\", \"cliff\", \"close\", \"close\", \"close\", \"close\", \"collins\", \"collins\", \"colonel\", \"colonel_fitzwilliam\", \"contemplate\", \"contemplate\", \"count\", \"count\", \"count\", \"count\", \"creator\", \"creator\", \"creature\", \"creature\", \"creature\", \"creature\", \"crime\", \"crime\", \"crime\", \"crucifix\", \"daemon\", \"daemon\", \"dance\", \"dance\", \"dance\", \"darcy\", \"darcy\", \"darcy\", \"daughter\", \"daughter\", \"daughter\", \"daughter\", \"dear\", \"dear\", \"dear\", \"dear\", \"death\", \"death\", \"death\", \"death\", \"deck\", \"deck\", \"deck\", \"desire\", \"desire\", \"desire\", \"desire\", \"despair\", \"despair\", \"despair\", \"diary\", \"discover\", \"discover\", \"discover\", \"discover\", \"doctor\", \"dog\", \"dog\", \"dog\", \"don\", \"don\", \"don\", \"door\", \"door\", \"door\", \"door\", \"dracula\", \"driver\", \"driver\", \"dungeon\", \"east\", \"east\", \"east\", \"elizabeth\", \"elizabeth\", \"elizabeth\", \"elizabeth\", \"endeavour\", \"endeavour\", \"endeavour\", \"enter\", \"enter\", \"enter\", \"enter\", \"enterprise\", \"ernest\", \"ernest\", \"face\", \"face\", \"face\", \"face\", \"fall\", \"fall\", \"fall\", \"fall\", \"family\", \"family\", \"family\", \"family\", \"famous\", \"father\", \"father\", \"father\", \"father\", \"fear\", \"fear\", \"fear\", \"fear\", \"feeling\", \"feeling\", \"feeling\", \"feeling\", \"felix\", \"felix\", \"fiend\", \"fiend\", \"fiend\", \"fin\", \"fish\", \"fish\", \"fish\", \"fish\", \"fishery\", \"fitzwilliam\", \"flask\", \"flask\", \"forever\", \"forever\", \"forever\", \"form\", \"form\", \"form\", \"form\", \"frankenstein\", \"frankenstein\", \"fulfil\", \"fulfil\", \"geneva\", \"geneva\", \"gentleman\", \"gentleman\", \"gentleman\", \"girl\", \"girl\", \"girl\", \"girl\", \"god\", \"god\", \"god\", \"god\", \"happy\", \"happy\", \"happy\", \"happy\", \"harbour\", \"harbour\", \"harbour\", \"harker\", \"harpooneer\", \"harpooneer\", \"harpooneer\", \"hatred\", \"hawkins\", \"head\", \"head\", \"head\", \"head\", \"heart\", \"heart\", \"heart\", \"heart\", \"helsing\", \"helsing\", \"henry\", \"henry\", \"high\", \"high\", \"high\", \"high\", \"hope\", \"hope\", \"hope\", \"hope\", \"horror\", \"horror\", \"horror\", \"human\", \"human\", \"human\", \"human\", \"hurst\", \"hurst\", \"indian\", \"indian\", \"innocence\", \"innocence\", \"island\", \"island\", \"island\", \"jane\", \"jane\", \"jaw\", \"jaw\", \"jonah\", \"jonah\", \"jonathan\", \"jonathan\", \"july\", \"july\", \"july\", \"justine\", \"justine\", \"key\", \"key\", \"lady\", \"lady\", \"lady\", \"lady\", \"lady_catherine\", \"ladyship\", \"lamp\", \"lamp\", \"land\", \"land\", \"land\", \"later\", \"letter\", \"letter\", \"letter\", \"letter\", \"leviathan\", \"lie\", \"lie\", \"lie\", \"lie\", \"life\", \"life\", \"life\", \"life\", \"light\", \"light\", \"light\", \"light\", \"lizzy\", \"lizzy\", \"lock\", \"lock\", \"lock\", \"longbourn\", \"longbourn\", \"love\", \"love\", \"love\", \"love\", \"lucas\", \"lucas\", \"lucy\", \"lucy\", \"lucy\", \"lucy\", \"lydia\", \"manner\", \"manner\", \"manner\", \"manner\", \"marry\", \"marry\", \"marry\", \"marry\", \"mast\", \"mast\", \"mast_head\", \"mean\", \"mean\", \"mean\", \"mean\", \"meryton\", \"meryton\", \"milk\", \"mina\", \"mina\", \"mind\", \"mind\", \"mind\", \"mind\", \"miserable\", \"miserable\", \"miserable\", \"miserable\", \"misery\", \"misery\", \"misery\", \"misery\", \"misfortune\", \"misfortune\", \"misfortune\", \"miss\", \"miss\", \"miss\", \"miss\", \"miss_bennet\", \"miss_bennet\", \"miss_bingley\", \"miss_bingley\", \"miss_lucas\", \"month\", \"month\", \"month\", \"month\", \"moonlight\", \"moonlight\", \"moonlight\", \"morning\", \"morning\", \"morning\", \"morning\", \"mrs\", \"mrs\", \"mrs\", \"mrs\", \"mrs_bennet\", \"mrs_bennet\", \"mrs_collins\", \"murder\", \"murder\", \"murder\", \"murderer\", \"murderer\", \"murderer\", \"nantucket\", \"nantucket\", \"netherfield\", \"netherfield\", \"new\", \"new\", \"new\", \"new\", \"new_bedford\", \"ocean\", \"ocean\", \"ocean\", \"octavo\", \"oil\", \"old\", \"old\", \"old\", \"old\", \"open\", \"open\", \"open\", \"open\", \"outside\", \"outside\", \"outside\", \"pacific\", \"pagan\", \"pagan\", \"pass\", \"pass\", \"pass\", \"pass\", \"passion\", \"passion\", \"passion\", \"peleg\", \"peleg\", \"pier\", \"professor\", \"professor\", \"professor\", \"queequeg\", \"queequeg\", \"queequeg\", \"queequeg\", \"reflect\", \"reflect\", \"reflect\", \"remain\", \"remain\", \"remain\", \"remain\", \"remorse\", \"renfield\", \"reply\", \"reply\", \"reply\", \"reply\", \"restore\", \"restore\", \"restore\", \"restore\", \"return\", \"return\", \"return\", \"return\", \"revenge\", \"revenge\", \"room\", \"room\", \"room\", \"room\", \"rosings\", \"round\", \"round\", \"round\", \"round\", \"royal\", \"run\", \"run\", \"run\", \"run\", \"safie\", \"safie\", \"scene\", \"scene\", \"scene\", \"scene\", \"sea\", \"sea\", \"sea\", \"sea\", \"sensation\", \"sensation\", \"sensation\", \"sensation\", \"shaving\", \"ship\", \"ship\", \"ship\", \"ship\", \"sicken\", \"sir\", \"sir\", \"sir\", \"sir\", \"sir_william\", \"sir_william\", \"sister\", \"sister\", \"sister\", \"sister\", \"sit\", \"sit\", \"sit\", \"sit\", \"sleep\", \"sleep\", \"sleep\", \"sleep\", \"slovaks\", \"small\", \"small\", \"small\", \"small\", \"sort\", \"sort\", \"sort\", \"sort\", \"sperm\", \"sperm_whale\", \"spout\", \"stand\", \"stand\", \"stand\", \"stand\", \"starbuck\", \"starbuck\", \"tale\", \"tale\", \"tale\", \"tashtego\", \"tear\", \"tear\", \"tear\", \"tear\", \"threat\", \"torture\", \"torture\", \"transylvania\", \"try\", \"try\", \"try\", \"try\", \"undertaking\", \"unfortunate\", \"union\", \"van\", \"van\", \"van_helsing\", \"van_helsing\", \"victim\", \"victor\", \"victor\", \"voyage\", \"voyage\", \"voyage\", \"walk\", \"walk\", \"walk\", \"walk\", \"wall\", \"wall\", \"wall\", \"want\", \"want\", \"want\", \"want\", \"water\", \"water\", \"water\", \"weep\", \"weep\", \"weep\", \"whale\", \"whale\", \"whale\", \"whale_ship\", \"whaleman\", \"whaleman\", \"whaling\", \"whaling\", \"whitby\", \"whitby\", \"white\", \"white\", \"white\", \"white\", \"wickham\", \"wickham\", \"window\", \"window\", \"window\", \"window\", \"wish\", \"wish\", \"wish\", \"wish\", \"wolf\", \"wolf\", \"wood\", \"wood\", \"wood\", \"word\", \"word\", \"word\", \"word\", \"world\", \"world\", \"world\", \"world\", \"wretchedness\", \"write\", \"write\", \"write\", \"write\", \"young\", \"young\", \"young\", \"young\", \"young_lady\"]}, \"R\": 30, \"lambda.step\": 0.01, \"plot.opts\": {\"xlab\": \"PC1\", \"ylab\": \"PC2\"}, \"topic.order\": [3, 4, 2, 1]};\n",
       "\n",
       "function LDAvis_load_lib(url, callback){\n",
       "  var s = document.createElement('script');\n",
       "  s.src = url;\n",
       "  s.async = true;\n",
       "  s.onreadystatechange = s.onload = callback;\n",
       "  s.onerror = function(){console.warn(\"failed to load library \" + url);};\n",
       "  document.getElementsByTagName(\"head\")[0].appendChild(s);\n",
       "}\n",
       "\n",
       "if(typeof(LDAvis) !== \"undefined\"){\n",
       "   // already loaded: just create the visualization\n",
       "   !function(LDAvis){\n",
       "       new LDAvis(\"#\" + \"ldavis_el30205140469604236888250107552\", ldavis_el30205140469604236888250107552_data);\n",
       "   }(LDAvis);\n",
       "}else if(typeof define === \"function\" && define.amd){\n",
       "   // require.js is available: use it to load d3/LDAvis\n",
       "   require.config({paths: {d3: \"https://cdnjs.cloudflare.com/ajax/libs/d3/3.5.5/d3.min\"}});\n",
       "   require([\"d3\"], function(d3){\n",
       "      window.d3 = d3;\n",
       "      LDAvis_load_lib(\"https://cdn.rawgit.com/bmabey/pyLDAvis/files/ldavis.v1.0.0.js\", function(){\n",
       "        new LDAvis(\"#\" + \"ldavis_el30205140469604236888250107552\", ldavis_el30205140469604236888250107552_data);\n",
       "      });\n",
       "    });\n",
       "}else{\n",
       "    // require.js not available: dynamically load d3 & LDAvis\n",
       "    LDAvis_load_lib(\"https://cdnjs.cloudflare.com/ajax/libs/d3/3.5.5/d3.min.js\", function(){\n",
       "         LDAvis_load_lib(\"https://cdn.rawgit.com/bmabey/pyLDAvis/files/ldavis.v1.0.0.js\", function(){\n",
       "                 new LDAvis(\"#\" + \"ldavis_el30205140469604236888250107552\", ldavis_el30205140469604236888250107552_data);\n",
       "            })\n",
       "         });\n",
       "}\n",
       "</script>"
      ],
      "text/plain": [
       "<IPython.core.display.HTML object>"
      ]
     },
     "execution_count": 47,
     "metadata": {},
     "output_type": "execute_result"
    }
   ],
   "source": [
    "# plot topics\n",
    "data =  pyLDAvis.gensim.prepare(model, corpus, dictionary)\n",
    "pyLDAvis.display(data)"
   ]
  },
  {
   "cell_type": "code",
   "execution_count": 48,
   "metadata": {},
   "outputs": [],
   "source": [
    "# assignment\n",
    "sent_to_cluster = list()\n",
    "for n,doc in enumerate(corpus):\n",
    "    if doc:\n",
    "        cluster = max(model[doc],key=lambda x:x[1])\n",
    "        sent_to_cluster.append(cluster[0])"
   ]
  },
  {
   "cell_type": "code",
   "execution_count": 49,
   "metadata": {},
   "outputs": [
    {
     "name": "stdout",
     "output_type": "stream",
     "text": [
      "DRACULA.txt : 1 - 57\n",
      "Accuracy: 0.95\n",
      "------\n",
      "Frankenstein.txt : 2 - 58\n",
      "Accuracy: 0.9666666666666667\n",
      "------\n",
      "Moby_Dick.txt : 0 - 45\n",
      "Accuracy: 0.75\n",
      "------\n",
      "PRIDE_AND_PREJUDICE.txt : 3 - 60\n",
      "Accuracy: 1.0\n",
      "------\n"
     ]
    }
   ],
   "source": [
    "# accuracy\n",
    "from collections import Counter\n",
    "for book, cluster in book_id.items():\n",
    "    assignments = list()\n",
    "    for real,given in zip(chunk_class,sent_to_cluster):\n",
    "        if real == cluster:\n",
    "            assignments.append(given)\n",
    "    most_common,num_most_common = Counter(assignments).most_common(1)[0] # 4, 6 times\n",
    "    print(book,\":\",most_common,\"-\",num_most_common)\n",
    "    print(\"Accuracy:\",num_most_common/limit)\n",
    "    print(\"------\")"
   ]
  },
  {
   "cell_type": "markdown",
   "metadata": {},
   "source": [
    "# Task 4: Semantic analysis based on lexical categories"
   ]
  },
  {
   "cell_type": "code",
   "execution_count": 50,
   "metadata": {},
   "outputs": [],
   "source": [
    "from empath import Empath\n",
    "lexicon = Empath()"
   ]
  },
  {
   "cell_type": "markdown",
   "metadata": {},
   "source": [
    "### Let's see what pre-build categories we can study! More information: https://hci.stanford.edu/publications/2016/ethan/empath-chi-2016.pdf"
   ]
  },
  {
   "cell_type": "code",
   "execution_count": 51,
   "metadata": {},
   "outputs": [
    {
     "name": "stdout",
     "output_type": "stream",
     "text": [
      "help\n",
      "office\n",
      "dance\n",
      "money\n",
      "wedding\n",
      "domestic_work\n",
      "sleep\n",
      "medical_emergency\n",
      "cold\n",
      "hate\n",
      "cheerfulness\n",
      "aggression\n",
      "occupation\n",
      "envy\n",
      "anticipation\n"
     ]
    }
   ],
   "source": [
    "for cat in list(lexicon.cats.keys())[:15]:\n",
    "    print(cat)"
   ]
  },
  {
   "cell_type": "markdown",
   "metadata": {},
   "source": [
    "### For each category, we can examine representative terms"
   ]
  },
  {
   "cell_type": "code",
   "execution_count": 52,
   "metadata": {},
   "outputs": [
    {
     "data": {
      "text/plain": [
       "['painkiller',\n",
       " 'allergy',\n",
       " 'therapist',\n",
       " 'flu',\n",
       " 'trimester',\n",
       " 'kidney',\n",
       " 'disease',\n",
       " 'maternity',\n",
       " 'hospital',\n",
       " 'ailment',\n",
       " 'epilepsy',\n",
       " 'behavioral',\n",
       " 'diarrhea',\n",
       " 'symptom',\n",
       " 'deficiency']"
      ]
     },
     "execution_count": 52,
     "metadata": {},
     "output_type": "execute_result"
    }
   ],
   "source": [
    "lexicon.cats[\"health\"][:15]"
   ]
  },
  {
   "cell_type": "markdown",
   "metadata": {},
   "source": [
    "### Studying Pride and Prejudice"
   ]
  },
  {
   "cell_type": "code",
   "execution_count": 53,
   "metadata": {},
   "outputs": [],
   "source": [
    "nlp = spacy.load('en_core_web_sm')\n",
    "doc = nlp(books[3])"
   ]
  },
  {
   "cell_type": "code",
   "execution_count": 54,
   "metadata": {},
   "outputs": [],
   "source": [
    "empath_features = lexicon.analyze(doc.text,categories = [\"disappointment\", \"pain\", \"joy\", \"beauty\", \"affection\"])"
   ]
  },
  {
   "cell_type": "code",
   "execution_count": 55,
   "metadata": {},
   "outputs": [
    {
     "data": {
      "text/plain": [
       "{'affection': 439.0,\n",
       " 'beauty': 136.0,\n",
       " 'disappointment': 149.0,\n",
       " 'joy': 278.0,\n",
       " 'pain': 228.0}"
      ]
     },
     "execution_count": 55,
     "metadata": {},
     "output_type": "execute_result"
    }
   ],
   "source": [
    "empath_features"
   ]
  },
  {
   "cell_type": "code",
   "execution_count": 56,
   "metadata": {},
   "outputs": [],
   "source": [
    "empath_features = lexicon.analyze(doc.text,categories = [\"disappointment\", \"pain\", \"joy\", \"beauty\", \"affection\"], normalize = True)"
   ]
  },
  {
   "cell_type": "code",
   "execution_count": 57,
   "metadata": {},
   "outputs": [
    {
     "data": {
      "text/plain": [
       "{'affection': 0.0036111773754390585,\n",
       " 'beauty': 0.0011187246538945602,\n",
       " 'disappointment': 0.0012256615693403638,\n",
       " 'joy': 0.002286804807225645,\n",
       " 'pain': 0.001875508978587939}"
      ]
     },
     "execution_count": 57,
     "metadata": {},
     "output_type": "execute_result"
    }
   ],
   "source": [
    "empath_features"
   ]
  },
  {
   "cell_type": "markdown",
   "metadata": {},
   "source": [
    "### Usecase: the evolution of topics"
   ]
  },
  {
   "cell_type": "code",
   "execution_count": 58,
   "metadata": {},
   "outputs": [],
   "source": [
    "bins = range(0,len(doc.text),150000)\n"
   ]
  },
  {
   "cell_type": "code",
   "execution_count": 59,
   "metadata": {},
   "outputs": [],
   "source": [
    "love = []\n",
    "pain = []\n",
    "beauty = []\n",
    "affection = []\n",
    "\n",
    "\n",
    "for cnt,i in enumerate(bins[:-1]):\n",
    "    empath_features = lexicon.analyze(doc.text[bins[cnt]:bins[cnt+1]],\n",
    "                                      categories = [\"love\", \"pain\", \"joy\", \"beauty\", \"affection\"], normalize = True)\n",
    "    love.append(empath_features[\"love\"])\n",
    "    pain.append(empath_features[\"pain\"])\n",
    "    beauty.append(empath_features[\"beauty\"])\n",
    "    affection.append(empath_features[\"affection\"])"
   ]
  },
  {
   "cell_type": "code",
   "execution_count": 60,
   "metadata": {},
   "outputs": [
    {
     "data": {
      "text/plain": [
       "<matplotlib.legend.Legend at 0x7fc049835dd8>"
      ]
     },
     "execution_count": 60,
     "metadata": {},
     "output_type": "execute_result"
    },
    {
     "data": {
      "image/png": "[encoded data removed]",
      "text/plain": [
       "<Figure size 432x288 with 1 Axes>"
      ]
     },
     "metadata": {},
     "output_type": "display_data"
    }
   ],
   "source": [
    "plt.plot(love,label = \"love\")\n",
    "plt.plot(beauty, label = \"beauty\")\n",
    "plt.plot(affection, label = \"affection\")\n",
    "plt.plot(pain,label = \"pain\")\n",
    "\n",
    "plt.xlabel(\"progression in the book\")\n",
    "plt.ylabel(\"frequency of a category\")\n",
    "plt.legend()"
   ]
  },
  {
   "cell_type": "code",
   "execution_count": 61,
   "metadata": {},
   "outputs": [],
   "source": [
    "# We can observe how as the story progresses, beauty and affection categories decrease, while love and pain intensify!"
   ]
  },
  {
   "cell_type": "markdown",
   "metadata": {},
   "source": [
    "### We can create custom categories based on seed terms!\n",
    "### Models trained on: fiction, nytimes or reddit"
   ]
  },
  {
   "cell_type": "code",
   "execution_count": 62,
   "metadata": {},
   "outputs": [
    {
     "name": "stdout",
     "output_type": "stream",
     "text": [
      "[\"avocado\", \"kale\", \"Swiss_chard\", \"escarole\", \"black_beans\", \"cucumber\", \"dill\", \"leek\", \"mango\", \"red_peppers\", \"chicory\", \"chanterelles\", \"chutney\", \"tamarind\", \"papaya\", \"black_olives\", \"endive\", \"pesto\", \"walnuts\", \"green_beans\", \"bok_choy\", \"portobello_mushrooms\", \"lemon_grass\", \"radicchio\", \"ricotta\", \"chicken_breast\", \"porcini\", \"blue_cheese\", \"snow_peas\", \"pickled\", \"Gorgonzola\", \"chorizo\", \"yams\", \"hazelnuts\", \"fresh_tomatoes\", \"shiitake_mushrooms\", \"anchovies\", \"wild_rice\", \"scallion\", \"red_onions\", \"broccoli_rape\", \"red_cabbage\", \"wasabi\", \"sweet_potato\", \"feta\", \"roasted_garlic\", \"compote\", \"napoleon\", \"aioli\", \"crab_meat\", \"cauliflower\", \"jicama\", \"parsnips\", \"apricots\", \"new_potatoes\", \"truffle_oil\", \"lemongrass\", \"pistachios\", \"saut\\u00e9ed\", \"gnocchi\", \"duck_confit\", \"fresh_herbs\", \"ratatouille\", \"white_beans\", \"croutons\", \"fresh_mozzarella\", \"squab\", \"watercress\", \"roasted_red_peppers\", \"pine_nuts\", \"fritters\", \"butternut_squash\", \"fava_beans\", \"drizzled\", \"red_onion\", \"pea_shoots\", \"rosemary\", \"romaine\", \"mustard_greens\", \"horseradish\", \"caramelized_onions\", \"artichoke_hearts\", \"fettuccine\", \"grilled_eggplant\", \"julienne\", \"plum_tomatoes\", \"grilled_chicken\", \"pineapple\", \"candied\", \"pancetta\", \"celery_root\", \"sea_scallops\", \"shiitake\", \"porcini_mushrooms\", \"sour_cream\", \"bean_sprouts\", \"oyster_mushrooms\", \"monkfish\", \"chickpeas\", \"coconut_milk\"]\n"
     ]
    }
   ],
   "source": [
    "lexicon.create_category(\"healthy_food\", [\"healthy_food\",\"low_carb\",\"kale\",\"avocado\"], model=\"nytimes\")"
   ]
  },
  {
   "cell_type": "code",
   "execution_count": 63,
   "metadata": {},
   "outputs": [
    {
     "name": "stdout",
     "output_type": "stream",
     "text": [
      "[\"green_vegetables\", \"leafy_greens\", \"whole_grain_bread\", \"brown_rice\", \"white_rice\", \"green_veggies\", \"veggies\", \"whole_wheat_bread\", \"sweet_potatoes\", \"raw_veggies\", \"lean_meat\", \"spinach\", \"fatty_meat\", \"kale\", \"sweet_potato\", \"avocado\", \"hummus\", \"chicken_breast\", \"veggie\", \"whole_grain\", \"vegetables\", \"whole_wheat_pasta\", \"salads\", \"broccoli\", \"greek_yogurt\", \"Greek_yogurt\", \"yogurt\", \"avocados\", \"rice_cakes\", \"raw_vegetables\", \"almonds\", \"lean_protein\", \"grilled_chicken\", \"quinoa\", \"steamed_broccoli\", \"whole_grain_pasta\", \"brocolli\", \"kale\", \"avocado\", \"tofu\", \"Veggies\", \"edamame\", \"more_veggies\", \"lean_meats\", \"quinoa\", \"salad\", \"cottage_cheese\", \"whole_wheat\", \"wheat_bread\", \"romaine_lettuce\", \"white_bread\", \"raw_spinach\", \"oatmeal\", \"white_potatoes\", \"almond_butter\", \"pork_rinds\", \"veg\", \"cashews\", \"greek_yoghurt\", \"baby_carrots\", \"fresh_veggies\", \"fatty_meats\", \"more_vegetables\", \"avacado\", \"veges\", \"nut_butter\", \"hard_boiled_eggs\", \"carrot_sticks\", \"whole_grains\", \"grilled_chicken_breast\", \"steamed_vegetables\", \"meats\", \"lentils\", \"green_beans\", \"low_cal\", \"nuts/seeds\", \"iceberg_lettuce\", \"carrots\", \"red_meat\", \"other_foods\", \"fried_foods\", \"smoothies\", \"healthy_fats\", \"vegies\", \"avacados\", \"other_vegetables\", \"fresh_fruit\", \"spinach_salad\", \"egg_whites\", \"steamed_veggies\", \"nut_butters\", \"ground_turkey\", \"baked_chicken\"]\n"
     ]
    }
   ],
   "source": [
    "lexicon.create_category(\"healthy_food\", [\"healthy_food\",\"low_carb\",\"kale\",\"avocado\"], model=\"reddit\")"
   ]
  },
  {
   "cell_type": "code",
   "execution_count": 64,
   "metadata": {},
   "outputs": [
    {
     "name": "stdout",
     "output_type": "stream",
     "text": [
      "[\"turkey\", \"roast_beef\", \"white_bread\", \"fried_chicken\", \"pancakes\", \"peanut_butter\", \"gefilte_fish\", \"stuffing\", \"French_fries\", \"meatloaf\", \"brisket\", \"potato_salad\", \"pumpkin_pie\", \"scrambled_eggs\", \"french_fries\", \"spaghetti\", \"gravy\", \"tamales\", \"pot_roast\", \"oatmeal\", \"lasagna\", \"corned_beef\", \"latkes\", \"pickles\", \"sauerkraut\", \"burger\", \"grits\", \"biscuits\", \"hamburger\", \"salad_bar\", \"corn_bread\", \"chicken_soup\", \"bacon\", \"cream_cheese\", \"brownies\", \"tofu\", \"pastrami\", \"pork_chops\", \"salami\", \"marshmallows\", \"collard_greens\", \"macaroni\", \"pies\", \"raw_fish\", \"eggnog\", \"cheeseburgers\", \"truffles\", \"chocolate_cake\", \"hard-boiled_eggs\", \"baked_potatoes\", \"venison\", \"cottage_cheese\", \"pheasant\", \"applesauce\", \"quail\", \"fruit_salad\", \"meatballs\", \"chocolate_chip_cookies\", \"tacos\", \"roast\", \"jelly\", \"chicken_salad\", \"omelet\", \"gumbo\", \"steaks\", \"soup\", \"lox\", \"sausage\", \"roast_chicken\", \"rye\", \"bagel\", \"fruitcake\", \"fries\", \"fried_eggs\", \"ketchup\", \"chicken_wings\", \"barbecue_sauce\", \"sweet_potatoes\", \"pasta\", \"sausages\", \"crackers\", \"omelets\", \"roasting\", \"French_toast\", \"muffins\", \"mashed_potatoes\", \"fresh_fruit\", \"baked_potato\", \"waffles\", \"cranberry_sauce\", \"baked_beans\", \"cheese\", \"tripe\", \"noodles\", \"maple_syrup\", \"quiche\", \"buns\", \"baklava\", \"stews\"]\n"
     ]
    }
   ],
   "source": [
    "lexicon.create_category(\"festive_food\", [\"festive_food\",\"turkey\",\"eggnog\"], model=\"nytimes\")"
   ]
  },
  {
   "cell_type": "markdown",
   "metadata": {},
   "source": [
    "### List of further resources\n",
    "    * NLTK\n",
    "    * Jellyfish: string similarity library\n",
    "    * TextBlob: simplified text processing\n",
    "    * PyEnchant: language detection\n",
    "    * WordNet: ontology of concepts (inc. in NLTK)\n",
    "    * Stanford NLP (Java)\n",
    "    * Tweet NLP: https://www.cs.cmu.edu/~ark/TweetNLP/"
   ]
  },
  {
   "cell_type": "markdown",
   "metadata": {
    "collapsed": true
   },
   "source": [
    "## Part 2"
   ]
  },
  {
   "cell_type": "markdown",
   "metadata": {},
   "source": [
    "### Question 1:\n",
    "An NLP preprocessing model, using the list of stopwords ['a', 'the', 'is', 'you', 'I','my','with','was'] for the input sentence\n",
    "“I was driving down the street with my CAR! :)” <br>\n",
    "gives the following output: {driving, down, street, car, :)}.\n",
    "The model consists of: <br>\n",
    "\n",
    "a) Stopword Removal, Casefolding and Stemming <br>\n",
    "b) Stopword Removal and Casefolding <br>\n",
    "c) Stopword Removal and Stemming <br>\n",
    "d) Casefolding and Stemming <br>"
   ]
  },
  {
   "cell_type": "code",
   "execution_count": 65,
   "metadata": {
    "collapsed": true
   },
   "outputs": [],
   "source": [
    "# write your code and/or answer here"
   ]
  },
  {
   "cell_type": "markdown",
   "metadata": {},
   "source": [
    "### Question 2:\n",
    "What statement is false about topic detection using LSA: <br>\n",
    "\n",
    "a) It finds the representation of documents and words in the latent \"topic space\" <br>\n",
    "b) It produces topics interpretable in “word space” <br>\n",
    "c) A document's topic representation is a probability distribution over topics <br>\n",
    "d) The vectors representing topics in “word space” are linearly independent <br>"
   ]
  },
  {
   "cell_type": "code",
   "execution_count": 66,
   "metadata": {
    "collapsed": true
   },
   "outputs": [],
   "source": [
    "# write your code and/or answer here"
   ]
  },
  {
   "cell_type": "markdown",
   "metadata": {},
   "source": [
    "### Question 3:\n",
    "The problem of having more features than documents when using a TF-IDF matrix for document classification cannot be addressed by: <br>\n",
    "\n",
    "a) Using SVD for dimensionality reduction <br>\n",
    "b) Using min-max scaling of features <br>\n",
    "c) Penalizing very large positive and very large negative weights (a.k.a. regularization) <br>\n",
    "d) Using online feature selection <br>"
   ]
  },
  {
   "cell_type": "code",
   "execution_count": 67,
   "metadata": {
    "collapsed": true
   },
   "outputs": [],
   "source": [
    "# write your code and/or answer here"
   ]
  },
  {
   "cell_type": "markdown",
   "metadata": {},
   "source": [
    "### Question 4:\n",
    "Which of the following is false about word vectors: <br>\n",
    "\n",
    "a) Word2vec is used to achieve a lower dimensional representation than bag of words <br>\n",
    "b) Semantically similar words typically have similar word2vec vectors <br>\n",
    "c) Each dimension in the word2vec embedding has a clear interpretation <br>\n",
    "d) Word2Vec can be used for the computation of sentence vectors <br>"
   ]
  },
  {
   "cell_type": "code",
   "execution_count": 68,
   "metadata": {
    "collapsed": true
   },
   "outputs": [],
   "source": [
    "# write your code and/or answer here"
   ]
  },
  {
   "cell_type": "markdown",
   "metadata": {},
   "source": [
    "### Question 5:\n",
    "Given the following word (W) / context (C) co-occurrence frequencies, which statement is true regarding the pointwise mutual information (PMI)?\n",
    "\n",
    "|  |W1|W2|W3|\n",
    "|--|--|--|--|\n",
    "|C1| 2| 0| 3|\n",
    "|C2| 6| 4| 0|\n",
    "|C3| 1| 1| 3|\n",
    "\n",
    "a) PMI(w=W1, c=C2) > PMI(w=W2, c=C2) > PMI(w=W3, c=C3) <br>\n",
    "b) PMI(w=W2, c=C2) > PMI(w=W1, c=C2) >  PMI(w=W3, c=C3) <br>\n",
    "c) PMI(w=W3, c=C3) > PMI(w=W1, c=C2) > PMI(w=W2, c=C2) <br>\n",
    "d) PMI(w=W3, c=C3) > PMI(w=W2, c=C2) > PMI(w=W1, c=C2) <br>"
   ]
  },
  {
   "cell_type": "code",
   "execution_count": 69,
   "metadata": {
    "collapsed": true
   },
   "outputs": [],
   "source": [
    "# write your code and/or answer here"
   ]
  },
  {
   "cell_type": "code",
   "execution_count": null,
   "metadata": {
    "collapsed": true
   },
   "outputs": [],
   "source": []
  }
 ],
 "metadata": {
  "kernelspec": {
   "display_name": "Python 3 (ipykernel)",
   "language": "python",
   "name": "python3"
  },
  "language_info": {
   "codemirror_mode": {
    "name": "ipython",
    "version": 3
   },
   "file_extension": ".py",
   "mimetype": "text/x-python",
   "name": "python",
   "nbconvert_exporter": "python",
   "pygments_lexer": "ipython3",
   "version": "3.8.11"
  },
  "toc": {
   "colors": {
    "hover_highlight": "#DAA520",
    "navigate_num": "#000000",
    "navigate_text": "#333333",
    "running_highlight": "#FF0000",
    "selected_highlight": "#FFD700",
    "sidebar_border": "#EEEEEE",
    "wrapper_background": "#FFFFFF"
   },
   "moveMenuLeft": true,
   "nav_menu": {
    "height": "228px",
    "width": "252px"
   },
   "navigate_menu": true,
   "number_sections": true,
   "sideBar": true,
   "threshold": 4,
   "toc_cell": false,
   "toc_section_display": "block",
   "toc_window_display": false,
   "widenNotebook": false
  },
  "varInspector": {
   "cols": {
    "lenName": 16,
    "lenType": 16,
    "lenVar": 40
   },
   "kernels_config": {
    "python": {
     "delete_cmd_postfix": "",
     "delete_cmd_prefix": "del ",
     "library": "var_list.py",
     "varRefreshCmd": "print(var_dic_list())"
    },
    "r": {
     "delete_cmd_postfix": ") ",
     "delete_cmd_prefix": "rm(",
     "library": "var_list.r",
     "varRefreshCmd": "cat(var_dic_list()) "
    }
   },
   "types_to_exclude": [
    "module",
    "function",
    "builtin_function_or_method",
    "instance",
    "_Feature"
   ],
   "window_display": false
  }
 },
 "nbformat": 4,
 "nbformat_minor": 2
}
